{
  "cells": [
    {
      "cell_type": "markdown",
      "metadata": {
        "id": "view-in-github",
        "colab_type": "text"
      },
      "source": [
        "<a href=\"https://colab.research.google.com/github/Alkafaweey/Bikeshare-Analysis-Project/blob/main/Bikeshare_Analysis_Project.ipynb\" target=\"_parent\"><img src=\"https://colab.research.google.com/assets/colab-badge.svg\" alt=\"Open In Colab\"/></a>"
      ]
    },
    {
      "cell_type": "markdown",
      "metadata": {
        "id": "HdLdvUM4qY1f"
      },
      "source": [
        "import pandas as pd\n",
        "import numpy as np\n",
        "import matplotlib.pyplot as plt\n",
        "import seaborn as sns\n",
        "import matplotlib"
      ]
    },
    {
      "cell_type": "code",
      "execution_count": null,
      "metadata": {
        "id": "s-T2oHQYqY1w"
      },
      "outputs": [],
      "source": [
        "import pandas as pd\n",
        "import numpy as np\n",
        "import matplotlib.pyplot as plt\n",
        "import seaborn as sns\n",
        "import matplotlib"
      ]
    },
    {
      "cell_type": "markdown",
      "metadata": {
        "id": "TLt6ZtL1qY2N"
      },
      "source": [
        "Reading the Data"
      ]
    },
    {
      "cell_type": "code",
      "execution_count": null,
      "metadata": {
        "id": "k9O6te8xqY2O"
      },
      "outputs": [],
      "source": [
        "data=pd.read_csv('202101_divvy_tripdata.csv')"
      ]
    },
    {
      "cell_type": "code",
      "execution_count": null,
      "metadata": {
        "id": "3d6wGvihqY2Q",
        "outputId": "81551825-fe0e-41c5-c44c-93ba32ef4c39"
      },
      "outputs": [
        {
          "name": "stdout",
          "output_type": "stream",
          "text": [
            "<class 'pandas.core.frame.DataFrame'>\n",
            "RangeIndex: 96834 entries, 0 to 96833\n",
            "Data columns (total 13 columns):\n",
            "ride_id               96834 non-null object\n",
            "rideable_type         96834 non-null object\n",
            "started_at            96834 non-null object\n",
            "ended_at              96834 non-null object\n",
            "start_station_name    88209 non-null object\n",
            "start_station_id      88209 non-null object\n",
            "end_station_name      86557 non-null object\n",
            "end_station_id        86557 non-null object\n",
            "start_lat             96834 non-null float64\n",
            "start_lng             96834 non-null float64\n",
            "end_lat               96731 non-null float64\n",
            "end_lng               96731 non-null float64\n",
            "member_casual         96834 non-null object\n",
            "dtypes: float64(4), object(9)\n",
            "memory usage: 6.3+ MB\n"
          ]
        }
      ],
      "source": [
        "data.info()"
      ]
    },
    {
      "cell_type": "code",
      "execution_count": null,
      "metadata": {
        "id": "DlY3Fvb7qY2U",
        "outputId": "d4659a14-dcc9-43dc-f2d0-f68df74d7bd8"
      },
      "outputs": [
        {
          "data": {
            "text/html": [
              "<div>\n",
              "<style scoped>\n",
              "    .dataframe tbody tr th:only-of-type {\n",
              "        vertical-align: middle;\n",
              "    }\n",
              "\n",
              "    .dataframe tbody tr th {\n",
              "        vertical-align: top;\n",
              "    }\n",
              "\n",
              "    .dataframe thead th {\n",
              "        text-align: right;\n",
              "    }\n",
              "</style>\n",
              "<table border=\"1\" class=\"dataframe\">\n",
              "  <thead>\n",
              "    <tr style=\"text-align: right;\">\n",
              "      <th></th>\n",
              "      <th>ride_id</th>\n",
              "      <th>rideable_type</th>\n",
              "      <th>started_at</th>\n",
              "      <th>ended_at</th>\n",
              "      <th>start_station_name</th>\n",
              "      <th>start_station_id</th>\n",
              "      <th>end_station_name</th>\n",
              "      <th>end_station_id</th>\n",
              "      <th>start_lat</th>\n",
              "      <th>start_lng</th>\n",
              "      <th>end_lat</th>\n",
              "      <th>end_lng</th>\n",
              "      <th>member_casual</th>\n",
              "    </tr>\n",
              "  </thead>\n",
              "  <tbody>\n",
              "    <tr>\n",
              "      <td>0</td>\n",
              "      <td>E19E6F1B8D4C42ED</td>\n",
              "      <td>electric_bike</td>\n",
              "      <td>1/23/21 16:14</td>\n",
              "      <td>1/23/21 16:24</td>\n",
              "      <td>California Ave &amp; Cortez St</td>\n",
              "      <td>17660</td>\n",
              "      <td>NaN</td>\n",
              "      <td>NaN</td>\n",
              "      <td>41.900341</td>\n",
              "      <td>-87.696743</td>\n",
              "      <td>41.89</td>\n",
              "      <td>-87.72</td>\n",
              "      <td>member</td>\n",
              "    </tr>\n",
              "    <tr>\n",
              "      <td>1</td>\n",
              "      <td>DC88F20C2C55F27F</td>\n",
              "      <td>electric_bike</td>\n",
              "      <td>1/27/21 18:43</td>\n",
              "      <td>1/27/21 18:47</td>\n",
              "      <td>California Ave &amp; Cortez St</td>\n",
              "      <td>17660</td>\n",
              "      <td>NaN</td>\n",
              "      <td>NaN</td>\n",
              "      <td>41.900333</td>\n",
              "      <td>-87.696707</td>\n",
              "      <td>41.90</td>\n",
              "      <td>-87.69</td>\n",
              "      <td>member</td>\n",
              "    </tr>\n",
              "    <tr>\n",
              "      <td>2</td>\n",
              "      <td>EC45C94683FE3F27</td>\n",
              "      <td>electric_bike</td>\n",
              "      <td>1/21/21 22:35</td>\n",
              "      <td>1/21/21 22:37</td>\n",
              "      <td>California Ave &amp; Cortez St</td>\n",
              "      <td>17660</td>\n",
              "      <td>NaN</td>\n",
              "      <td>NaN</td>\n",
              "      <td>41.900313</td>\n",
              "      <td>-87.696643</td>\n",
              "      <td>41.90</td>\n",
              "      <td>-87.70</td>\n",
              "      <td>member</td>\n",
              "    </tr>\n",
              "    <tr>\n",
              "      <td>3</td>\n",
              "      <td>4FA453A75AE377DB</td>\n",
              "      <td>electric_bike</td>\n",
              "      <td>1/7/21 13:31</td>\n",
              "      <td>1/7/21 13:42</td>\n",
              "      <td>California Ave &amp; Cortez St</td>\n",
              "      <td>17660</td>\n",
              "      <td>NaN</td>\n",
              "      <td>NaN</td>\n",
              "      <td>41.900399</td>\n",
              "      <td>-87.696662</td>\n",
              "      <td>41.92</td>\n",
              "      <td>-87.69</td>\n",
              "      <td>member</td>\n",
              "    </tr>\n",
              "    <tr>\n",
              "      <td>4</td>\n",
              "      <td>BE5E8EB4E7263A0B</td>\n",
              "      <td>electric_bike</td>\n",
              "      <td>1/23/21 2:24</td>\n",
              "      <td>1/23/21 2:24</td>\n",
              "      <td>California Ave &amp; Cortez St</td>\n",
              "      <td>17660</td>\n",
              "      <td>NaN</td>\n",
              "      <td>NaN</td>\n",
              "      <td>41.900326</td>\n",
              "      <td>-87.696697</td>\n",
              "      <td>41.90</td>\n",
              "      <td>-87.70</td>\n",
              "      <td>casual</td>\n",
              "    </tr>\n",
              "  </tbody>\n",
              "</table>\n",
              "</div>"
            ],
            "text/plain": [
              "            ride_id  rideable_type     started_at       ended_at  \\\n",
              "0  E19E6F1B8D4C42ED  electric_bike  1/23/21 16:14  1/23/21 16:24   \n",
              "1  DC88F20C2C55F27F  electric_bike  1/27/21 18:43  1/27/21 18:47   \n",
              "2  EC45C94683FE3F27  electric_bike  1/21/21 22:35  1/21/21 22:37   \n",
              "3  4FA453A75AE377DB  electric_bike   1/7/21 13:31   1/7/21 13:42   \n",
              "4  BE5E8EB4E7263A0B  electric_bike   1/23/21 2:24   1/23/21 2:24   \n",
              "\n",
              "           start_station_name start_station_id end_station_name  \\\n",
              "0  California Ave & Cortez St            17660              NaN   \n",
              "1  California Ave & Cortez St            17660              NaN   \n",
              "2  California Ave & Cortez St            17660              NaN   \n",
              "3  California Ave & Cortez St            17660              NaN   \n",
              "4  California Ave & Cortez St            17660              NaN   \n",
              "\n",
              "  end_station_id  start_lat  start_lng  end_lat  end_lng member_casual  \n",
              "0            NaN  41.900341 -87.696743    41.89   -87.72        member  \n",
              "1            NaN  41.900333 -87.696707    41.90   -87.69        member  \n",
              "2            NaN  41.900313 -87.696643    41.90   -87.70        member  \n",
              "3            NaN  41.900399 -87.696662    41.92   -87.69        member  \n",
              "4            NaN  41.900326 -87.696697    41.90   -87.70        casual  "
            ]
          },
          "execution_count": 4,
          "metadata": {},
          "output_type": "execute_result"
        }
      ],
      "source": [
        "data.head()"
      ]
    },
    {
      "cell_type": "code",
      "execution_count": null,
      "metadata": {
        "id": "ZwLGQvelqY2V",
        "outputId": "84029195-fcdd-41fb-aa1b-6c0cd1050b10"
      },
      "outputs": [
        {
          "data": {
            "text/html": [
              "<div>\n",
              "<style scoped>\n",
              "    .dataframe tbody tr th:only-of-type {\n",
              "        vertical-align: middle;\n",
              "    }\n",
              "\n",
              "    .dataframe tbody tr th {\n",
              "        vertical-align: top;\n",
              "    }\n",
              "\n",
              "    .dataframe thead th {\n",
              "        text-align: right;\n",
              "    }\n",
              "</style>\n",
              "<table border=\"1\" class=\"dataframe\">\n",
              "  <thead>\n",
              "    <tr style=\"text-align: right;\">\n",
              "      <th></th>\n",
              "      <th>ride_id</th>\n",
              "      <th>rideable_type</th>\n",
              "      <th>started_at</th>\n",
              "      <th>ended_at</th>\n",
              "      <th>start_station_name</th>\n",
              "      <th>start_station_id</th>\n",
              "      <th>end_station_name</th>\n",
              "      <th>end_station_id</th>\n",
              "      <th>start_lat</th>\n",
              "      <th>start_lng</th>\n",
              "      <th>end_lat</th>\n",
              "      <th>end_lng</th>\n",
              "      <th>member_casual</th>\n",
              "    </tr>\n",
              "  </thead>\n",
              "  <tbody>\n",
              "    <tr>\n",
              "      <td>96829</td>\n",
              "      <td>B1A5336E1412D8BF</td>\n",
              "      <td>classic_bike</td>\n",
              "      <td>1/19/21 19:03</td>\n",
              "      <td>1/19/21 20:10</td>\n",
              "      <td>Lake Shore Dr &amp; Monroe St</td>\n",
              "      <td>13300</td>\n",
              "      <td>Lakefront Trail &amp; Bryn Mawr Ave</td>\n",
              "      <td>KA1504000152</td>\n",
              "      <td>41.880958</td>\n",
              "      <td>-87.616743</td>\n",
              "      <td>41.984037</td>\n",
              "      <td>-87.652310</td>\n",
              "      <td>member</td>\n",
              "    </tr>\n",
              "    <tr>\n",
              "      <td>96830</td>\n",
              "      <td>57EA5CB7DCD75F90</td>\n",
              "      <td>classic_bike</td>\n",
              "      <td>1/5/21 18:42</td>\n",
              "      <td>1/5/21 19:33</td>\n",
              "      <td>Lake Shore Dr &amp; Monroe St</td>\n",
              "      <td>13300</td>\n",
              "      <td>Lakefront Trail &amp; Bryn Mawr Ave</td>\n",
              "      <td>KA1504000152</td>\n",
              "      <td>41.880958</td>\n",
              "      <td>-87.616743</td>\n",
              "      <td>41.984037</td>\n",
              "      <td>-87.652310</td>\n",
              "      <td>member</td>\n",
              "    </tr>\n",
              "    <tr>\n",
              "      <td>96831</td>\n",
              "      <td>815B319A078CC984</td>\n",
              "      <td>classic_bike</td>\n",
              "      <td>1/7/21 17:59</td>\n",
              "      <td>1/7/21 19:34</td>\n",
              "      <td>Lakefront Trail &amp; Bryn Mawr Ave</td>\n",
              "      <td>KA1504000152</td>\n",
              "      <td>Lakefront Trail &amp; Bryn Mawr Ave</td>\n",
              "      <td>KA1504000152</td>\n",
              "      <td>41.984037</td>\n",
              "      <td>-87.652310</td>\n",
              "      <td>41.984037</td>\n",
              "      <td>-87.652310</td>\n",
              "      <td>member</td>\n",
              "    </tr>\n",
              "    <tr>\n",
              "      <td>96832</td>\n",
              "      <td>6DB04151565CEE63</td>\n",
              "      <td>classic_bike</td>\n",
              "      <td>1/6/21 19:20</td>\n",
              "      <td>1/6/21 20:41</td>\n",
              "      <td>Lakefront Trail &amp; Bryn Mawr Ave</td>\n",
              "      <td>KA1504000152</td>\n",
              "      <td>Lakefront Trail &amp; Bryn Mawr Ave</td>\n",
              "      <td>KA1504000152</td>\n",
              "      <td>41.984037</td>\n",
              "      <td>-87.652310</td>\n",
              "      <td>41.984037</td>\n",
              "      <td>-87.652310</td>\n",
              "      <td>member</td>\n",
              "    </tr>\n",
              "    <tr>\n",
              "      <td>96833</td>\n",
              "      <td>8008C9C998083A1A</td>\n",
              "      <td>docked_bike</td>\n",
              "      <td>1/17/21 13:20</td>\n",
              "      <td>1/17/21 14:17</td>\n",
              "      <td>Lake Shore Dr &amp; Monroe St</td>\n",
              "      <td>13300</td>\n",
              "      <td>Lake Shore Dr &amp; Monroe St</td>\n",
              "      <td>13300</td>\n",
              "      <td>41.880958</td>\n",
              "      <td>-87.616743</td>\n",
              "      <td>41.880958</td>\n",
              "      <td>-87.616743</td>\n",
              "      <td>casual</td>\n",
              "    </tr>\n",
              "  </tbody>\n",
              "</table>\n",
              "</div>"
            ],
            "text/plain": [
              "                ride_id rideable_type     started_at       ended_at  \\\n",
              "96829  B1A5336E1412D8BF  classic_bike  1/19/21 19:03  1/19/21 20:10   \n",
              "96830  57EA5CB7DCD75F90  classic_bike   1/5/21 18:42   1/5/21 19:33   \n",
              "96831  815B319A078CC984  classic_bike   1/7/21 17:59   1/7/21 19:34   \n",
              "96832  6DB04151565CEE63  classic_bike   1/6/21 19:20   1/6/21 20:41   \n",
              "96833  8008C9C998083A1A   docked_bike  1/17/21 13:20  1/17/21 14:17   \n",
              "\n",
              "                    start_station_name start_station_id  \\\n",
              "96829        Lake Shore Dr & Monroe St            13300   \n",
              "96830        Lake Shore Dr & Monroe St            13300   \n",
              "96831  Lakefront Trail & Bryn Mawr Ave     KA1504000152   \n",
              "96832  Lakefront Trail & Bryn Mawr Ave     KA1504000152   \n",
              "96833        Lake Shore Dr & Monroe St            13300   \n",
              "\n",
              "                      end_station_name end_station_id  start_lat  start_lng  \\\n",
              "96829  Lakefront Trail & Bryn Mawr Ave   KA1504000152  41.880958 -87.616743   \n",
              "96830  Lakefront Trail & Bryn Mawr Ave   KA1504000152  41.880958 -87.616743   \n",
              "96831  Lakefront Trail & Bryn Mawr Ave   KA1504000152  41.984037 -87.652310   \n",
              "96832  Lakefront Trail & Bryn Mawr Ave   KA1504000152  41.984037 -87.652310   \n",
              "96833        Lake Shore Dr & Monroe St          13300  41.880958 -87.616743   \n",
              "\n",
              "         end_lat    end_lng member_casual  \n",
              "96829  41.984037 -87.652310        member  \n",
              "96830  41.984037 -87.652310        member  \n",
              "96831  41.984037 -87.652310        member  \n",
              "96832  41.984037 -87.652310        member  \n",
              "96833  41.880958 -87.616743        casual  "
            ]
          },
          "execution_count": 5,
          "metadata": {},
          "output_type": "execute_result"
        }
      ],
      "source": [
        "data.tail()"
      ]
    },
    {
      "cell_type": "code",
      "execution_count": null,
      "metadata": {
        "id": "Oy_HY0Z4qY2X",
        "outputId": "22de7c5e-3c7f-44cc-98be-eb85440d2401"
      },
      "outputs": [
        {
          "data": {
            "text/html": [
              "<div>\n",
              "<style scoped>\n",
              "    .dataframe tbody tr th:only-of-type {\n",
              "        vertical-align: middle;\n",
              "    }\n",
              "\n",
              "    .dataframe tbody tr th {\n",
              "        vertical-align: top;\n",
              "    }\n",
              "\n",
              "    .dataframe thead th {\n",
              "        text-align: right;\n",
              "    }\n",
              "</style>\n",
              "<table border=\"1\" class=\"dataframe\">\n",
              "  <thead>\n",
              "    <tr style=\"text-align: right;\">\n",
              "      <th></th>\n",
              "      <th>start_lat</th>\n",
              "      <th>start_lng</th>\n",
              "      <th>end_lat</th>\n",
              "      <th>end_lng</th>\n",
              "    </tr>\n",
              "  </thead>\n",
              "  <tbody>\n",
              "    <tr>\n",
              "      <td>count</td>\n",
              "      <td>96834.000000</td>\n",
              "      <td>96834.000000</td>\n",
              "      <td>96731.000000</td>\n",
              "      <td>96731.000000</td>\n",
              "    </tr>\n",
              "    <tr>\n",
              "      <td>mean</td>\n",
              "      <td>41.900482</td>\n",
              "      <td>-87.646076</td>\n",
              "      <td>41.900594</td>\n",
              "      <td>-87.646288</td>\n",
              "    </tr>\n",
              "    <tr>\n",
              "      <td>std</td>\n",
              "      <td>0.047050</td>\n",
              "      <td>0.027148</td>\n",
              "      <td>0.047140</td>\n",
              "      <td>0.027215</td>\n",
              "    </tr>\n",
              "    <tr>\n",
              "      <td>min</td>\n",
              "      <td>41.640000</td>\n",
              "      <td>-87.780000</td>\n",
              "      <td>41.640000</td>\n",
              "      <td>-87.810000</td>\n",
              "    </tr>\n",
              "    <tr>\n",
              "      <td>25%</td>\n",
              "      <td>41.881320</td>\n",
              "      <td>-87.660285</td>\n",
              "      <td>41.881320</td>\n",
              "      <td>-87.660984</td>\n",
              "    </tr>\n",
              "    <tr>\n",
              "      <td>50%</td>\n",
              "      <td>41.896857</td>\n",
              "      <td>-87.643118</td>\n",
              "      <td>41.896910</td>\n",
              "      <td>-87.643525</td>\n",
              "    </tr>\n",
              "    <tr>\n",
              "      <td>75%</td>\n",
              "      <td>41.929143</td>\n",
              "      <td>-87.629544</td>\n",
              "      <td>41.929466</td>\n",
              "      <td>-87.629544</td>\n",
              "    </tr>\n",
              "    <tr>\n",
              "      <td>max</td>\n",
              "      <td>42.064854</td>\n",
              "      <td>-87.528232</td>\n",
              "      <td>42.070000</td>\n",
              "      <td>-87.510000</td>\n",
              "    </tr>\n",
              "  </tbody>\n",
              "</table>\n",
              "</div>"
            ],
            "text/plain": [
              "          start_lat     start_lng       end_lat       end_lng\n",
              "count  96834.000000  96834.000000  96731.000000  96731.000000\n",
              "mean      41.900482    -87.646076     41.900594    -87.646288\n",
              "std        0.047050      0.027148      0.047140      0.027215\n",
              "min       41.640000    -87.780000     41.640000    -87.810000\n",
              "25%       41.881320    -87.660285     41.881320    -87.660984\n",
              "50%       41.896857    -87.643118     41.896910    -87.643525\n",
              "75%       41.929143    -87.629544     41.929466    -87.629544\n",
              "max       42.064854    -87.528232     42.070000    -87.510000"
            ]
          },
          "execution_count": 6,
          "metadata": {},
          "output_type": "execute_result"
        }
      ],
      "source": [
        "data.describe()"
      ]
    },
    {
      "cell_type": "markdown",
      "metadata": {
        "id": "tGSDFEpFqY2a"
      },
      "source": [
        "Convert the value of Started_at and ended_at to datetime "
      ]
    },
    {
      "cell_type": "code",
      "execution_count": null,
      "metadata": {
        "id": "GLayZ3zoqY2e"
      },
      "outputs": [],
      "source": [
        "data['started_at']=pd.to_datetime(data['started_at'])\n",
        "data['ended_at']=pd.to_datetime(data['ended_at'])"
      ]
    },
    {
      "cell_type": "code",
      "execution_count": null,
      "metadata": {
        "id": "roAAbjo6qY2g",
        "outputId": "b3518c56-4540-4ff7-c2a3-25ea7a0eea72"
      },
      "outputs": [
        {
          "name": "stdout",
          "output_type": "stream",
          "text": [
            "<class 'pandas.core.frame.DataFrame'>\n",
            "RangeIndex: 96834 entries, 0 to 96833\n",
            "Data columns (total 13 columns):\n",
            "ride_id               96834 non-null object\n",
            "rideable_type         96834 non-null object\n",
            "started_at            96834 non-null datetime64[ns]\n",
            "ended_at              96834 non-null datetime64[ns]\n",
            "start_station_name    88209 non-null object\n",
            "start_station_id      88209 non-null object\n",
            "end_station_name      86557 non-null object\n",
            "end_station_id        86557 non-null object\n",
            "start_lat             96834 non-null float64\n",
            "start_lng             96834 non-null float64\n",
            "end_lat               96731 non-null float64\n",
            "end_lng               96731 non-null float64\n",
            "member_casual         96834 non-null object\n",
            "dtypes: datetime64[ns](2), float64(4), object(7)\n",
            "memory usage: 7.0+ MB\n"
          ]
        }
      ],
      "source": [
        "data.info()"
      ]
    },
    {
      "cell_type": "code",
      "execution_count": null,
      "metadata": {
        "id": "Rb7SWjYoqY2i",
        "outputId": "674acae2-a2f1-43e2-9889-e9bfe5b08ef8"
      },
      "outputs": [
        {
          "data": {
            "text/html": [
              "<div>\n",
              "<style scoped>\n",
              "    .dataframe tbody tr th:only-of-type {\n",
              "        vertical-align: middle;\n",
              "    }\n",
              "\n",
              "    .dataframe tbody tr th {\n",
              "        vertical-align: top;\n",
              "    }\n",
              "\n",
              "    .dataframe thead th {\n",
              "        text-align: right;\n",
              "    }\n",
              "</style>\n",
              "<table border=\"1\" class=\"dataframe\">\n",
              "  <thead>\n",
              "    <tr style=\"text-align: right;\">\n",
              "      <th></th>\n",
              "      <th>ride_id</th>\n",
              "      <th>rideable_type</th>\n",
              "      <th>started_at</th>\n",
              "      <th>ended_at</th>\n",
              "      <th>start_station_name</th>\n",
              "      <th>start_station_id</th>\n",
              "      <th>end_station_name</th>\n",
              "      <th>end_station_id</th>\n",
              "      <th>start_lat</th>\n",
              "      <th>start_lng</th>\n",
              "      <th>end_lat</th>\n",
              "      <th>end_lng</th>\n",
              "      <th>member_casual</th>\n",
              "    </tr>\n",
              "  </thead>\n",
              "  <tbody>\n",
              "    <tr>\n",
              "      <td>0</td>\n",
              "      <td>E19E6F1B8D4C42ED</td>\n",
              "      <td>electric_bike</td>\n",
              "      <td>2021-01-23 16:14:00</td>\n",
              "      <td>2021-01-23 16:24:00</td>\n",
              "      <td>California Ave &amp; Cortez St</td>\n",
              "      <td>17660</td>\n",
              "      <td>NaN</td>\n",
              "      <td>NaN</td>\n",
              "      <td>41.900341</td>\n",
              "      <td>-87.696743</td>\n",
              "      <td>41.89</td>\n",
              "      <td>-87.72</td>\n",
              "      <td>member</td>\n",
              "    </tr>\n",
              "    <tr>\n",
              "      <td>1</td>\n",
              "      <td>DC88F20C2C55F27F</td>\n",
              "      <td>electric_bike</td>\n",
              "      <td>2021-01-27 18:43:00</td>\n",
              "      <td>2021-01-27 18:47:00</td>\n",
              "      <td>California Ave &amp; Cortez St</td>\n",
              "      <td>17660</td>\n",
              "      <td>NaN</td>\n",
              "      <td>NaN</td>\n",
              "      <td>41.900333</td>\n",
              "      <td>-87.696707</td>\n",
              "      <td>41.90</td>\n",
              "      <td>-87.69</td>\n",
              "      <td>member</td>\n",
              "    </tr>\n",
              "    <tr>\n",
              "      <td>2</td>\n",
              "      <td>EC45C94683FE3F27</td>\n",
              "      <td>electric_bike</td>\n",
              "      <td>2021-01-21 22:35:00</td>\n",
              "      <td>2021-01-21 22:37:00</td>\n",
              "      <td>California Ave &amp; Cortez St</td>\n",
              "      <td>17660</td>\n",
              "      <td>NaN</td>\n",
              "      <td>NaN</td>\n",
              "      <td>41.900313</td>\n",
              "      <td>-87.696643</td>\n",
              "      <td>41.90</td>\n",
              "      <td>-87.70</td>\n",
              "      <td>member</td>\n",
              "    </tr>\n",
              "    <tr>\n",
              "      <td>3</td>\n",
              "      <td>4FA453A75AE377DB</td>\n",
              "      <td>electric_bike</td>\n",
              "      <td>2021-01-07 13:31:00</td>\n",
              "      <td>2021-01-07 13:42:00</td>\n",
              "      <td>California Ave &amp; Cortez St</td>\n",
              "      <td>17660</td>\n",
              "      <td>NaN</td>\n",
              "      <td>NaN</td>\n",
              "      <td>41.900399</td>\n",
              "      <td>-87.696662</td>\n",
              "      <td>41.92</td>\n",
              "      <td>-87.69</td>\n",
              "      <td>member</td>\n",
              "    </tr>\n",
              "    <tr>\n",
              "      <td>4</td>\n",
              "      <td>BE5E8EB4E7263A0B</td>\n",
              "      <td>electric_bike</td>\n",
              "      <td>2021-01-23 02:24:00</td>\n",
              "      <td>2021-01-23 02:24:00</td>\n",
              "      <td>California Ave &amp; Cortez St</td>\n",
              "      <td>17660</td>\n",
              "      <td>NaN</td>\n",
              "      <td>NaN</td>\n",
              "      <td>41.900326</td>\n",
              "      <td>-87.696697</td>\n",
              "      <td>41.90</td>\n",
              "      <td>-87.70</td>\n",
              "      <td>casual</td>\n",
              "    </tr>\n",
              "  </tbody>\n",
              "</table>\n",
              "</div>"
            ],
            "text/plain": [
              "            ride_id  rideable_type          started_at            ended_at  \\\n",
              "0  E19E6F1B8D4C42ED  electric_bike 2021-01-23 16:14:00 2021-01-23 16:24:00   \n",
              "1  DC88F20C2C55F27F  electric_bike 2021-01-27 18:43:00 2021-01-27 18:47:00   \n",
              "2  EC45C94683FE3F27  electric_bike 2021-01-21 22:35:00 2021-01-21 22:37:00   \n",
              "3  4FA453A75AE377DB  electric_bike 2021-01-07 13:31:00 2021-01-07 13:42:00   \n",
              "4  BE5E8EB4E7263A0B  electric_bike 2021-01-23 02:24:00 2021-01-23 02:24:00   \n",
              "\n",
              "           start_station_name start_station_id end_station_name  \\\n",
              "0  California Ave & Cortez St            17660              NaN   \n",
              "1  California Ave & Cortez St            17660              NaN   \n",
              "2  California Ave & Cortez St            17660              NaN   \n",
              "3  California Ave & Cortez St            17660              NaN   \n",
              "4  California Ave & Cortez St            17660              NaN   \n",
              "\n",
              "  end_station_id  start_lat  start_lng  end_lat  end_lng member_casual  \n",
              "0            NaN  41.900341 -87.696743    41.89   -87.72        member  \n",
              "1            NaN  41.900333 -87.696707    41.90   -87.69        member  \n",
              "2            NaN  41.900313 -87.696643    41.90   -87.70        member  \n",
              "3            NaN  41.900399 -87.696662    41.92   -87.69        member  \n",
              "4            NaN  41.900326 -87.696697    41.90   -87.70        casual  "
            ]
          },
          "execution_count": 9,
          "metadata": {},
          "output_type": "execute_result"
        }
      ],
      "source": [
        "data.head()"
      ]
    },
    {
      "cell_type": "markdown",
      "metadata": {
        "id": "DB66ApRWqY2j"
      },
      "source": [
        "Creating two new columns; day_of_week and ride_length"
      ]
    },
    {
      "cell_type": "code",
      "execution_count": null,
      "metadata": {
        "id": "tGHkJfp0qY2k"
      },
      "outputs": [],
      "source": [
        "data['day_of_week']=data['started_at'].dt.dayofweek"
      ]
    },
    {
      "cell_type": "code",
      "execution_count": null,
      "metadata": {
        "id": "qHF1C4rAqY2m"
      },
      "outputs": [],
      "source": [
        "data['ride_length']=data['ended_at']-data['started_at']"
      ]
    },
    {
      "cell_type": "code",
      "execution_count": null,
      "metadata": {
        "id": "2uSHkqbEqY2m",
        "outputId": "755956b0-6db0-411d-b7ff-0f6f5fbdb14d"
      },
      "outputs": [
        {
          "data": {
            "text/html": [
              "<div>\n",
              "<style scoped>\n",
              "    .dataframe tbody tr th:only-of-type {\n",
              "        vertical-align: middle;\n",
              "    }\n",
              "\n",
              "    .dataframe tbody tr th {\n",
              "        vertical-align: top;\n",
              "    }\n",
              "\n",
              "    .dataframe thead th {\n",
              "        text-align: right;\n",
              "    }\n",
              "</style>\n",
              "<table border=\"1\" class=\"dataframe\">\n",
              "  <thead>\n",
              "    <tr style=\"text-align: right;\">\n",
              "      <th></th>\n",
              "      <th>ride_id</th>\n",
              "      <th>rideable_type</th>\n",
              "      <th>started_at</th>\n",
              "      <th>ended_at</th>\n",
              "      <th>start_station_name</th>\n",
              "      <th>start_station_id</th>\n",
              "      <th>end_station_name</th>\n",
              "      <th>end_station_id</th>\n",
              "      <th>start_lat</th>\n",
              "      <th>start_lng</th>\n",
              "      <th>end_lat</th>\n",
              "      <th>end_lng</th>\n",
              "      <th>member_casual</th>\n",
              "      <th>day_of_week</th>\n",
              "      <th>ride_length</th>\n",
              "    </tr>\n",
              "  </thead>\n",
              "  <tbody>\n",
              "    <tr>\n",
              "      <td>0</td>\n",
              "      <td>E19E6F1B8D4C42ED</td>\n",
              "      <td>electric_bike</td>\n",
              "      <td>2021-01-23 16:14:00</td>\n",
              "      <td>2021-01-23 16:24:00</td>\n",
              "      <td>California Ave &amp; Cortez St</td>\n",
              "      <td>17660</td>\n",
              "      <td>NaN</td>\n",
              "      <td>NaN</td>\n",
              "      <td>41.900341</td>\n",
              "      <td>-87.696743</td>\n",
              "      <td>41.89</td>\n",
              "      <td>-87.72</td>\n",
              "      <td>member</td>\n",
              "      <td>5</td>\n",
              "      <td>00:10:00</td>\n",
              "    </tr>\n",
              "    <tr>\n",
              "      <td>1</td>\n",
              "      <td>DC88F20C2C55F27F</td>\n",
              "      <td>electric_bike</td>\n",
              "      <td>2021-01-27 18:43:00</td>\n",
              "      <td>2021-01-27 18:47:00</td>\n",
              "      <td>California Ave &amp; Cortez St</td>\n",
              "      <td>17660</td>\n",
              "      <td>NaN</td>\n",
              "      <td>NaN</td>\n",
              "      <td>41.900333</td>\n",
              "      <td>-87.696707</td>\n",
              "      <td>41.90</td>\n",
              "      <td>-87.69</td>\n",
              "      <td>member</td>\n",
              "      <td>2</td>\n",
              "      <td>00:04:00</td>\n",
              "    </tr>\n",
              "    <tr>\n",
              "      <td>2</td>\n",
              "      <td>EC45C94683FE3F27</td>\n",
              "      <td>electric_bike</td>\n",
              "      <td>2021-01-21 22:35:00</td>\n",
              "      <td>2021-01-21 22:37:00</td>\n",
              "      <td>California Ave &amp; Cortez St</td>\n",
              "      <td>17660</td>\n",
              "      <td>NaN</td>\n",
              "      <td>NaN</td>\n",
              "      <td>41.900313</td>\n",
              "      <td>-87.696643</td>\n",
              "      <td>41.90</td>\n",
              "      <td>-87.70</td>\n",
              "      <td>member</td>\n",
              "      <td>3</td>\n",
              "      <td>00:02:00</td>\n",
              "    </tr>\n",
              "    <tr>\n",
              "      <td>3</td>\n",
              "      <td>4FA453A75AE377DB</td>\n",
              "      <td>electric_bike</td>\n",
              "      <td>2021-01-07 13:31:00</td>\n",
              "      <td>2021-01-07 13:42:00</td>\n",
              "      <td>California Ave &amp; Cortez St</td>\n",
              "      <td>17660</td>\n",
              "      <td>NaN</td>\n",
              "      <td>NaN</td>\n",
              "      <td>41.900399</td>\n",
              "      <td>-87.696662</td>\n",
              "      <td>41.92</td>\n",
              "      <td>-87.69</td>\n",
              "      <td>member</td>\n",
              "      <td>3</td>\n",
              "      <td>00:11:00</td>\n",
              "    </tr>\n",
              "    <tr>\n",
              "      <td>4</td>\n",
              "      <td>BE5E8EB4E7263A0B</td>\n",
              "      <td>electric_bike</td>\n",
              "      <td>2021-01-23 02:24:00</td>\n",
              "      <td>2021-01-23 02:24:00</td>\n",
              "      <td>California Ave &amp; Cortez St</td>\n",
              "      <td>17660</td>\n",
              "      <td>NaN</td>\n",
              "      <td>NaN</td>\n",
              "      <td>41.900326</td>\n",
              "      <td>-87.696697</td>\n",
              "      <td>41.90</td>\n",
              "      <td>-87.70</td>\n",
              "      <td>casual</td>\n",
              "      <td>5</td>\n",
              "      <td>00:00:00</td>\n",
              "    </tr>\n",
              "  </tbody>\n",
              "</table>\n",
              "</div>"
            ],
            "text/plain": [
              "            ride_id  rideable_type          started_at            ended_at  \\\n",
              "0  E19E6F1B8D4C42ED  electric_bike 2021-01-23 16:14:00 2021-01-23 16:24:00   \n",
              "1  DC88F20C2C55F27F  electric_bike 2021-01-27 18:43:00 2021-01-27 18:47:00   \n",
              "2  EC45C94683FE3F27  electric_bike 2021-01-21 22:35:00 2021-01-21 22:37:00   \n",
              "3  4FA453A75AE377DB  electric_bike 2021-01-07 13:31:00 2021-01-07 13:42:00   \n",
              "4  BE5E8EB4E7263A0B  electric_bike 2021-01-23 02:24:00 2021-01-23 02:24:00   \n",
              "\n",
              "           start_station_name start_station_id end_station_name  \\\n",
              "0  California Ave & Cortez St            17660              NaN   \n",
              "1  California Ave & Cortez St            17660              NaN   \n",
              "2  California Ave & Cortez St            17660              NaN   \n",
              "3  California Ave & Cortez St            17660              NaN   \n",
              "4  California Ave & Cortez St            17660              NaN   \n",
              "\n",
              "  end_station_id  start_lat  start_lng  end_lat  end_lng member_casual  \\\n",
              "0            NaN  41.900341 -87.696743    41.89   -87.72        member   \n",
              "1            NaN  41.900333 -87.696707    41.90   -87.69        member   \n",
              "2            NaN  41.900313 -87.696643    41.90   -87.70        member   \n",
              "3            NaN  41.900399 -87.696662    41.92   -87.69        member   \n",
              "4            NaN  41.900326 -87.696697    41.90   -87.70        casual   \n",
              "\n",
              "   day_of_week ride_length  \n",
              "0            5    00:10:00  \n",
              "1            2    00:04:00  \n",
              "2            3    00:02:00  \n",
              "3            3    00:11:00  \n",
              "4            5    00:00:00  "
            ]
          },
          "execution_count": 12,
          "metadata": {},
          "output_type": "execute_result"
        }
      ],
      "source": [
        "data.head()"
      ]
    },
    {
      "cell_type": "markdown",
      "metadata": {
        "id": "n3aINIM3qY2o"
      },
      "source": [
        "Converting day_of_week from integer to string"
      ]
    },
    {
      "cell_type": "code",
      "execution_count": null,
      "metadata": {
        "id": "YIZxykmZqY2p"
      },
      "outputs": [],
      "source": [
        "data['day_of_week']=data['day_of_week'].replace(0, 'Monday')\n",
        "data['day_of_week']=data['day_of_week'].replace(1, 'Tuesday')\n",
        "data['day_of_week']=data['day_of_week'].replace(2, 'Wednesday')\n",
        "data['day_of_week']=data['day_of_week'].replace(3, 'Thursday')\n",
        "data['day_of_week']=data['day_of_week'].replace(4, 'Friday')\n",
        "data['day_of_week']=data['day_of_week'].replace(5, 'Saturday')\n",
        "data['day_of_week']=data['day_of_week'].replace(6, 'Sunday')"
      ]
    },
    {
      "cell_type": "code",
      "execution_count": null,
      "metadata": {
        "id": "BXsNWrPKqY3H",
        "outputId": "a84e6d57-b3fe-4d1c-8027-4e270e64e22a"
      },
      "outputs": [
        {
          "data": {
            "text/html": [
              "<div>\n",
              "<style scoped>\n",
              "    .dataframe tbody tr th:only-of-type {\n",
              "        vertical-align: middle;\n",
              "    }\n",
              "\n",
              "    .dataframe tbody tr th {\n",
              "        vertical-align: top;\n",
              "    }\n",
              "\n",
              "    .dataframe thead th {\n",
              "        text-align: right;\n",
              "    }\n",
              "</style>\n",
              "<table border=\"1\" class=\"dataframe\">\n",
              "  <thead>\n",
              "    <tr style=\"text-align: right;\">\n",
              "      <th></th>\n",
              "      <th>start_lat</th>\n",
              "      <th>start_lng</th>\n",
              "      <th>end_lat</th>\n",
              "      <th>end_lng</th>\n",
              "      <th>ride_length</th>\n",
              "    </tr>\n",
              "  </thead>\n",
              "  <tbody>\n",
              "    <tr>\n",
              "      <td>count</td>\n",
              "      <td>96834.000000</td>\n",
              "      <td>96834.000000</td>\n",
              "      <td>96731.000000</td>\n",
              "      <td>96731.000000</td>\n",
              "      <td>96834</td>\n",
              "    </tr>\n",
              "    <tr>\n",
              "      <td>mean</td>\n",
              "      <td>41.900482</td>\n",
              "      <td>-87.646076</td>\n",
              "      <td>41.900594</td>\n",
              "      <td>-87.646288</td>\n",
              "      <td>0 days 00:15:16.131730</td>\n",
              "    </tr>\n",
              "    <tr>\n",
              "      <td>std</td>\n",
              "      <td>0.047050</td>\n",
              "      <td>0.027148</td>\n",
              "      <td>0.047140</td>\n",
              "      <td>0.027215</td>\n",
              "      <td>0 days 01:23:56.452481</td>\n",
              "    </tr>\n",
              "    <tr>\n",
              "      <td>min</td>\n",
              "      <td>41.640000</td>\n",
              "      <td>-87.780000</td>\n",
              "      <td>41.640000</td>\n",
              "      <td>-87.810000</td>\n",
              "      <td>-1 days +23:58:00</td>\n",
              "    </tr>\n",
              "    <tr>\n",
              "      <td>25%</td>\n",
              "      <td>41.881320</td>\n",
              "      <td>-87.660285</td>\n",
              "      <td>41.881320</td>\n",
              "      <td>-87.660984</td>\n",
              "      <td>0 days 00:06:00</td>\n",
              "    </tr>\n",
              "    <tr>\n",
              "      <td>50%</td>\n",
              "      <td>41.896857</td>\n",
              "      <td>-87.643118</td>\n",
              "      <td>41.896910</td>\n",
              "      <td>-87.643525</td>\n",
              "      <td>0 days 00:09:00</td>\n",
              "    </tr>\n",
              "    <tr>\n",
              "      <td>75%</td>\n",
              "      <td>41.929143</td>\n",
              "      <td>-87.629544</td>\n",
              "      <td>41.929466</td>\n",
              "      <td>-87.629544</td>\n",
              "      <td>0 days 00:16:00</td>\n",
              "    </tr>\n",
              "    <tr>\n",
              "      <td>max</td>\n",
              "      <td>42.064854</td>\n",
              "      <td>-87.528232</td>\n",
              "      <td>42.070000</td>\n",
              "      <td>-87.510000</td>\n",
              "      <td>13 days 18:26:00</td>\n",
              "    </tr>\n",
              "  </tbody>\n",
              "</table>\n",
              "</div>"
            ],
            "text/plain": [
              "          start_lat     start_lng       end_lat       end_lng  \\\n",
              "count  96834.000000  96834.000000  96731.000000  96731.000000   \n",
              "mean      41.900482    -87.646076     41.900594    -87.646288   \n",
              "std        0.047050      0.027148      0.047140      0.027215   \n",
              "min       41.640000    -87.780000     41.640000    -87.810000   \n",
              "25%       41.881320    -87.660285     41.881320    -87.660984   \n",
              "50%       41.896857    -87.643118     41.896910    -87.643525   \n",
              "75%       41.929143    -87.629544     41.929466    -87.629544   \n",
              "max       42.064854    -87.528232     42.070000    -87.510000   \n",
              "\n",
              "                  ride_length  \n",
              "count                   96834  \n",
              "mean   0 days 00:15:16.131730  \n",
              "std    0 days 01:23:56.452481  \n",
              "min         -1 days +23:58:00  \n",
              "25%           0 days 00:06:00  \n",
              "50%           0 days 00:09:00  \n",
              "75%           0 days 00:16:00  \n",
              "max          13 days 18:26:00  "
            ]
          },
          "execution_count": 14,
          "metadata": {},
          "output_type": "execute_result"
        }
      ],
      "source": [
        "data.describe()"
      ]
    },
    {
      "cell_type": "markdown",
      "metadata": {
        "id": "P-kwmlJxqY3K"
      },
      "source": [
        "The data is not yet cleaned, a table in ride_lenght is reading as negative (-)."
      ]
    },
    {
      "cell_type": "code",
      "execution_count": null,
      "metadata": {
        "id": "fVbRyu1YqY3L",
        "outputId": "bc5c5751-017b-4275-8dab-9ef38627d17a"
      },
      "outputs": [
        {
          "data": {
            "text/html": [
              "<div>\n",
              "<style scoped>\n",
              "    .dataframe tbody tr th:only-of-type {\n",
              "        vertical-align: middle;\n",
              "    }\n",
              "\n",
              "    .dataframe tbody tr th {\n",
              "        vertical-align: top;\n",
              "    }\n",
              "\n",
              "    .dataframe thead th {\n",
              "        text-align: right;\n",
              "    }\n",
              "</style>\n",
              "<table border=\"1\" class=\"dataframe\">\n",
              "  <thead>\n",
              "    <tr style=\"text-align: right;\">\n",
              "      <th></th>\n",
              "      <th>ride_id</th>\n",
              "      <th>rideable_type</th>\n",
              "      <th>started_at</th>\n",
              "      <th>ended_at</th>\n",
              "      <th>start_station_name</th>\n",
              "      <th>start_station_id</th>\n",
              "      <th>end_station_name</th>\n",
              "      <th>end_station_id</th>\n",
              "      <th>start_lat</th>\n",
              "      <th>start_lng</th>\n",
              "      <th>end_lat</th>\n",
              "      <th>end_lng</th>\n",
              "      <th>member_casual</th>\n",
              "      <th>day_of_week</th>\n",
              "      <th>ride_length</th>\n",
              "    </tr>\n",
              "  </thead>\n",
              "  <tbody>\n",
              "    <tr>\n",
              "      <td>6592</td>\n",
              "      <td>FC1EFEF4475D7F56</td>\n",
              "      <td>classic_bike</td>\n",
              "      <td>2021-01-09 15:42:00</td>\n",
              "      <td>2021-01-09 15:41:00</td>\n",
              "      <td>Monticello Ave &amp; Irving Park Rd</td>\n",
              "      <td>KA1504000139</td>\n",
              "      <td>NaN</td>\n",
              "      <td>NaN</td>\n",
              "      <td>41.954005</td>\n",
              "      <td>-87.719128</td>\n",
              "      <td>NaN</td>\n",
              "      <td>NaN</td>\n",
              "      <td>member</td>\n",
              "      <td>Saturday</td>\n",
              "      <td>-1 days +23:59:00</td>\n",
              "    </tr>\n",
              "    <tr>\n",
              "      <td>35752</td>\n",
              "      <td>B1235D38EB2F8A9E</td>\n",
              "      <td>electric_bike</td>\n",
              "      <td>2021-01-06 18:33:00</td>\n",
              "      <td>2021-01-06 18:31:00</td>\n",
              "      <td>Daley Center Plaza</td>\n",
              "      <td>TA1306000010</td>\n",
              "      <td>NaN</td>\n",
              "      <td>NaN</td>\n",
              "      <td>41.883944</td>\n",
              "      <td>-87.629307</td>\n",
              "      <td>41.88</td>\n",
              "      <td>-87.63</td>\n",
              "      <td>member</td>\n",
              "      <td>Wednesday</td>\n",
              "      <td>-1 days +23:58:00</td>\n",
              "    </tr>\n",
              "  </tbody>\n",
              "</table>\n",
              "</div>"
            ],
            "text/plain": [
              "                ride_id  rideable_type          started_at  \\\n",
              "6592   FC1EFEF4475D7F56   classic_bike 2021-01-09 15:42:00   \n",
              "35752  B1235D38EB2F8A9E  electric_bike 2021-01-06 18:33:00   \n",
              "\n",
              "                 ended_at               start_station_name start_station_id  \\\n",
              "6592  2021-01-09 15:41:00  Monticello Ave & Irving Park Rd     KA1504000139   \n",
              "35752 2021-01-06 18:31:00               Daley Center Plaza     TA1306000010   \n",
              "\n",
              "      end_station_name end_station_id  start_lat  start_lng  end_lat  end_lng  \\\n",
              "6592               NaN            NaN  41.954005 -87.719128      NaN      NaN   \n",
              "35752              NaN            NaN  41.883944 -87.629307    41.88   -87.63   \n",
              "\n",
              "      member_casual day_of_week       ride_length  \n",
              "6592         member    Saturday -1 days +23:59:00  \n",
              "35752        member   Wednesday -1 days +23:58:00  "
            ]
          },
          "execution_count": 15,
          "metadata": {},
          "output_type": "execute_result"
        }
      ],
      "source": [
        "data[data['ride_length']<'00:00:00']"
      ]
    },
    {
      "cell_type": "code",
      "execution_count": null,
      "metadata": {
        "id": "4bWyxUp1qY3N"
      },
      "outputs": [],
      "source": [
        "data['ride_length']=data['ride_length'].drop((data[data['ride_length']<'00:00:00']).index, axis=0)"
      ]
    },
    {
      "cell_type": "code",
      "execution_count": null,
      "metadata": {
        "id": "fbiwW4RDqY3O",
        "outputId": "320dc2c0-511c-45b1-cc66-c695596ae734"
      },
      "outputs": [
        {
          "data": {
            "text/html": [
              "<div>\n",
              "<style scoped>\n",
              "    .dataframe tbody tr th:only-of-type {\n",
              "        vertical-align: middle;\n",
              "    }\n",
              "\n",
              "    .dataframe tbody tr th {\n",
              "        vertical-align: top;\n",
              "    }\n",
              "\n",
              "    .dataframe thead th {\n",
              "        text-align: right;\n",
              "    }\n",
              "</style>\n",
              "<table border=\"1\" class=\"dataframe\">\n",
              "  <thead>\n",
              "    <tr style=\"text-align: right;\">\n",
              "      <th></th>\n",
              "      <th>ride_id</th>\n",
              "      <th>rideable_type</th>\n",
              "      <th>started_at</th>\n",
              "      <th>ended_at</th>\n",
              "      <th>start_station_name</th>\n",
              "      <th>start_station_id</th>\n",
              "      <th>end_station_name</th>\n",
              "      <th>end_station_id</th>\n",
              "      <th>start_lat</th>\n",
              "      <th>start_lng</th>\n",
              "      <th>end_lat</th>\n",
              "      <th>end_lng</th>\n",
              "      <th>member_casual</th>\n",
              "      <th>day_of_week</th>\n",
              "      <th>ride_length</th>\n",
              "    </tr>\n",
              "  </thead>\n",
              "  <tbody>\n",
              "  </tbody>\n",
              "</table>\n",
              "</div>"
            ],
            "text/plain": [
              "Empty DataFrame\n",
              "Columns: [ride_id, rideable_type, started_at, ended_at, start_station_name, start_station_id, end_station_name, end_station_id, start_lat, start_lng, end_lat, end_lng, member_casual, day_of_week, ride_length]\n",
              "Index: []"
            ]
          },
          "execution_count": 17,
          "metadata": {},
          "output_type": "execute_result"
        }
      ],
      "source": [
        "data[data['ride_length']<'00:00:00']"
      ]
    },
    {
      "cell_type": "code",
      "execution_count": null,
      "metadata": {
        "id": "xbLUWGuyqY3R",
        "outputId": "dd807a4a-5c6f-478b-853b-c6f00ca65ce4"
      },
      "outputs": [
        {
          "data": {
            "text/html": [
              "<div>\n",
              "<style scoped>\n",
              "    .dataframe tbody tr th:only-of-type {\n",
              "        vertical-align: middle;\n",
              "    }\n",
              "\n",
              "    .dataframe tbody tr th {\n",
              "        vertical-align: top;\n",
              "    }\n",
              "\n",
              "    .dataframe thead th {\n",
              "        text-align: right;\n",
              "    }\n",
              "</style>\n",
              "<table border=\"1\" class=\"dataframe\">\n",
              "  <thead>\n",
              "    <tr style=\"text-align: right;\">\n",
              "      <th></th>\n",
              "      <th>start_lat</th>\n",
              "      <th>start_lng</th>\n",
              "      <th>end_lat</th>\n",
              "      <th>end_lng</th>\n",
              "      <th>ride_length</th>\n",
              "    </tr>\n",
              "  </thead>\n",
              "  <tbody>\n",
              "    <tr>\n",
              "      <td>count</td>\n",
              "      <td>96834.000000</td>\n",
              "      <td>96834.000000</td>\n",
              "      <td>96731.000000</td>\n",
              "      <td>96731.000000</td>\n",
              "      <td>96832</td>\n",
              "    </tr>\n",
              "    <tr>\n",
              "      <td>mean</td>\n",
              "      <td>41.900482</td>\n",
              "      <td>-87.646076</td>\n",
              "      <td>41.900594</td>\n",
              "      <td>-87.646288</td>\n",
              "      <td>0 days 00:15:16.152511</td>\n",
              "    </tr>\n",
              "    <tr>\n",
              "      <td>std</td>\n",
              "      <td>0.047050</td>\n",
              "      <td>0.027148</td>\n",
              "      <td>0.047140</td>\n",
              "      <td>0.027215</td>\n",
              "      <td>0 days 01:23:56.502415</td>\n",
              "    </tr>\n",
              "    <tr>\n",
              "      <td>min</td>\n",
              "      <td>41.640000</td>\n",
              "      <td>-87.780000</td>\n",
              "      <td>41.640000</td>\n",
              "      <td>-87.810000</td>\n",
              "      <td>0 days 00:00:00</td>\n",
              "    </tr>\n",
              "    <tr>\n",
              "      <td>25%</td>\n",
              "      <td>41.881320</td>\n",
              "      <td>-87.660285</td>\n",
              "      <td>41.881320</td>\n",
              "      <td>-87.660984</td>\n",
              "      <td>0 days 00:06:00</td>\n",
              "    </tr>\n",
              "    <tr>\n",
              "      <td>50%</td>\n",
              "      <td>41.896857</td>\n",
              "      <td>-87.643118</td>\n",
              "      <td>41.896910</td>\n",
              "      <td>-87.643525</td>\n",
              "      <td>0 days 00:09:00</td>\n",
              "    </tr>\n",
              "    <tr>\n",
              "      <td>75%</td>\n",
              "      <td>41.929143</td>\n",
              "      <td>-87.629544</td>\n",
              "      <td>41.929466</td>\n",
              "      <td>-87.629544</td>\n",
              "      <td>0 days 00:16:00</td>\n",
              "    </tr>\n",
              "    <tr>\n",
              "      <td>max</td>\n",
              "      <td>42.064854</td>\n",
              "      <td>-87.528232</td>\n",
              "      <td>42.070000</td>\n",
              "      <td>-87.510000</td>\n",
              "      <td>13 days 18:26:00</td>\n",
              "    </tr>\n",
              "  </tbody>\n",
              "</table>\n",
              "</div>"
            ],
            "text/plain": [
              "          start_lat     start_lng       end_lat       end_lng  \\\n",
              "count  96834.000000  96834.000000  96731.000000  96731.000000   \n",
              "mean      41.900482    -87.646076     41.900594    -87.646288   \n",
              "std        0.047050      0.027148      0.047140      0.027215   \n",
              "min       41.640000    -87.780000     41.640000    -87.810000   \n",
              "25%       41.881320    -87.660285     41.881320    -87.660984   \n",
              "50%       41.896857    -87.643118     41.896910    -87.643525   \n",
              "75%       41.929143    -87.629544     41.929466    -87.629544   \n",
              "max       42.064854    -87.528232     42.070000    -87.510000   \n",
              "\n",
              "                  ride_length  \n",
              "count                   96832  \n",
              "mean   0 days 00:15:16.152511  \n",
              "std    0 days 01:23:56.502415  \n",
              "min           0 days 00:00:00  \n",
              "25%           0 days 00:06:00  \n",
              "50%           0 days 00:09:00  \n",
              "75%           0 days 00:16:00  \n",
              "max          13 days 18:26:00  "
            ]
          },
          "execution_count": 18,
          "metadata": {},
          "output_type": "execute_result"
        }
      ],
      "source": [
        "data.describe()"
      ]
    },
    {
      "cell_type": "code",
      "execution_count": null,
      "metadata": {
        "id": "j3dCtaQBqY3S",
        "outputId": "6a5fcbfa-237b-4da2-b5de-4ee5a4f84811"
      },
      "outputs": [
        {
          "data": {
            "text/plain": [
              "ride_id                   0\n",
              "rideable_type             0\n",
              "started_at                0\n",
              "ended_at                  0\n",
              "start_station_name     8625\n",
              "start_station_id       8625\n",
              "end_station_name      10277\n",
              "end_station_id        10277\n",
              "start_lat                 0\n",
              "start_lng                 0\n",
              "end_lat                 103\n",
              "end_lng                 103\n",
              "member_casual             0\n",
              "day_of_week               0\n",
              "ride_length               2\n",
              "dtype: int64"
            ]
          },
          "execution_count": 19,
          "metadata": {},
          "output_type": "execute_result"
        }
      ],
      "source": [
        "data.isna().sum()"
      ]
    },
    {
      "cell_type": "code",
      "execution_count": null,
      "metadata": {
        "id": "Ne_tTitUqY3T"
      },
      "outputs": [],
      "source": [
        "data['ride_length_secs']=data['ride_length'].dt.total_seconds()"
      ]
    },
    {
      "cell_type": "code",
      "execution_count": null,
      "metadata": {
        "id": "67t13nXSqY3U",
        "outputId": "7d429fa6-6db8-4b3f-f313-63d73e1a6ec5"
      },
      "outputs": [
        {
          "data": {
            "text/html": [
              "<div>\n",
              "<style scoped>\n",
              "    .dataframe tbody tr th:only-of-type {\n",
              "        vertical-align: middle;\n",
              "    }\n",
              "\n",
              "    .dataframe tbody tr th {\n",
              "        vertical-align: top;\n",
              "    }\n",
              "\n",
              "    .dataframe thead th {\n",
              "        text-align: right;\n",
              "    }\n",
              "</style>\n",
              "<table border=\"1\" class=\"dataframe\">\n",
              "  <thead>\n",
              "    <tr style=\"text-align: right;\">\n",
              "      <th></th>\n",
              "      <th>ride_id</th>\n",
              "      <th>rideable_type</th>\n",
              "      <th>started_at</th>\n",
              "      <th>ended_at</th>\n",
              "      <th>start_station_name</th>\n",
              "      <th>start_station_id</th>\n",
              "      <th>end_station_name</th>\n",
              "      <th>end_station_id</th>\n",
              "      <th>start_lat</th>\n",
              "      <th>start_lng</th>\n",
              "      <th>end_lat</th>\n",
              "      <th>end_lng</th>\n",
              "      <th>member_casual</th>\n",
              "      <th>day_of_week</th>\n",
              "      <th>ride_length</th>\n",
              "      <th>ride_length_secs</th>\n",
              "    </tr>\n",
              "  </thead>\n",
              "  <tbody>\n",
              "    <tr>\n",
              "      <td>0</td>\n",
              "      <td>E19E6F1B8D4C42ED</td>\n",
              "      <td>electric_bike</td>\n",
              "      <td>2021-01-23 16:14:00</td>\n",
              "      <td>2021-01-23 16:24:00</td>\n",
              "      <td>California Ave &amp; Cortez St</td>\n",
              "      <td>17660</td>\n",
              "      <td>NaN</td>\n",
              "      <td>NaN</td>\n",
              "      <td>41.900341</td>\n",
              "      <td>-87.696743</td>\n",
              "      <td>41.89</td>\n",
              "      <td>-87.72</td>\n",
              "      <td>member</td>\n",
              "      <td>Saturday</td>\n",
              "      <td>00:10:00</td>\n",
              "      <td>600.0</td>\n",
              "    </tr>\n",
              "    <tr>\n",
              "      <td>1</td>\n",
              "      <td>DC88F20C2C55F27F</td>\n",
              "      <td>electric_bike</td>\n",
              "      <td>2021-01-27 18:43:00</td>\n",
              "      <td>2021-01-27 18:47:00</td>\n",
              "      <td>California Ave &amp; Cortez St</td>\n",
              "      <td>17660</td>\n",
              "      <td>NaN</td>\n",
              "      <td>NaN</td>\n",
              "      <td>41.900333</td>\n",
              "      <td>-87.696707</td>\n",
              "      <td>41.90</td>\n",
              "      <td>-87.69</td>\n",
              "      <td>member</td>\n",
              "      <td>Wednesday</td>\n",
              "      <td>00:04:00</td>\n",
              "      <td>240.0</td>\n",
              "    </tr>\n",
              "    <tr>\n",
              "      <td>2</td>\n",
              "      <td>EC45C94683FE3F27</td>\n",
              "      <td>electric_bike</td>\n",
              "      <td>2021-01-21 22:35:00</td>\n",
              "      <td>2021-01-21 22:37:00</td>\n",
              "      <td>California Ave &amp; Cortez St</td>\n",
              "      <td>17660</td>\n",
              "      <td>NaN</td>\n",
              "      <td>NaN</td>\n",
              "      <td>41.900313</td>\n",
              "      <td>-87.696643</td>\n",
              "      <td>41.90</td>\n",
              "      <td>-87.70</td>\n",
              "      <td>member</td>\n",
              "      <td>Thursday</td>\n",
              "      <td>00:02:00</td>\n",
              "      <td>120.0</td>\n",
              "    </tr>\n",
              "    <tr>\n",
              "      <td>3</td>\n",
              "      <td>4FA453A75AE377DB</td>\n",
              "      <td>electric_bike</td>\n",
              "      <td>2021-01-07 13:31:00</td>\n",
              "      <td>2021-01-07 13:42:00</td>\n",
              "      <td>California Ave &amp; Cortez St</td>\n",
              "      <td>17660</td>\n",
              "      <td>NaN</td>\n",
              "      <td>NaN</td>\n",
              "      <td>41.900399</td>\n",
              "      <td>-87.696662</td>\n",
              "      <td>41.92</td>\n",
              "      <td>-87.69</td>\n",
              "      <td>member</td>\n",
              "      <td>Thursday</td>\n",
              "      <td>00:11:00</td>\n",
              "      <td>660.0</td>\n",
              "    </tr>\n",
              "    <tr>\n",
              "      <td>4</td>\n",
              "      <td>BE5E8EB4E7263A0B</td>\n",
              "      <td>electric_bike</td>\n",
              "      <td>2021-01-23 02:24:00</td>\n",
              "      <td>2021-01-23 02:24:00</td>\n",
              "      <td>California Ave &amp; Cortez St</td>\n",
              "      <td>17660</td>\n",
              "      <td>NaN</td>\n",
              "      <td>NaN</td>\n",
              "      <td>41.900326</td>\n",
              "      <td>-87.696697</td>\n",
              "      <td>41.90</td>\n",
              "      <td>-87.70</td>\n",
              "      <td>casual</td>\n",
              "      <td>Saturday</td>\n",
              "      <td>00:00:00</td>\n",
              "      <td>0.0</td>\n",
              "    </tr>\n",
              "  </tbody>\n",
              "</table>\n",
              "</div>"
            ],
            "text/plain": [
              "            ride_id  rideable_type          started_at            ended_at  \\\n",
              "0  E19E6F1B8D4C42ED  electric_bike 2021-01-23 16:14:00 2021-01-23 16:24:00   \n",
              "1  DC88F20C2C55F27F  electric_bike 2021-01-27 18:43:00 2021-01-27 18:47:00   \n",
              "2  EC45C94683FE3F27  electric_bike 2021-01-21 22:35:00 2021-01-21 22:37:00   \n",
              "3  4FA453A75AE377DB  electric_bike 2021-01-07 13:31:00 2021-01-07 13:42:00   \n",
              "4  BE5E8EB4E7263A0B  electric_bike 2021-01-23 02:24:00 2021-01-23 02:24:00   \n",
              "\n",
              "           start_station_name start_station_id end_station_name  \\\n",
              "0  California Ave & Cortez St            17660              NaN   \n",
              "1  California Ave & Cortez St            17660              NaN   \n",
              "2  California Ave & Cortez St            17660              NaN   \n",
              "3  California Ave & Cortez St            17660              NaN   \n",
              "4  California Ave & Cortez St            17660              NaN   \n",
              "\n",
              "  end_station_id  start_lat  start_lng  end_lat  end_lng member_casual  \\\n",
              "0            NaN  41.900341 -87.696743    41.89   -87.72        member   \n",
              "1            NaN  41.900333 -87.696707    41.90   -87.69        member   \n",
              "2            NaN  41.900313 -87.696643    41.90   -87.70        member   \n",
              "3            NaN  41.900399 -87.696662    41.92   -87.69        member   \n",
              "4            NaN  41.900326 -87.696697    41.90   -87.70        casual   \n",
              "\n",
              "  day_of_week ride_length  ride_length_secs  \n",
              "0    Saturday    00:10:00             600.0  \n",
              "1   Wednesday    00:04:00             240.0  \n",
              "2    Thursday    00:02:00             120.0  \n",
              "3    Thursday    00:11:00             660.0  \n",
              "4    Saturday    00:00:00               0.0  "
            ]
          },
          "execution_count": 21,
          "metadata": {},
          "output_type": "execute_result"
        }
      ],
      "source": [
        "data.head()"
      ]
    },
    {
      "cell_type": "code",
      "execution_count": null,
      "metadata": {
        "id": "DC11VOjlqY3V",
        "outputId": "86caabdd-0299-4bac-8370-bdd213549c83"
      },
      "outputs": [
        {
          "data": {
            "text/plain": [
              "ride_id                   0\n",
              "rideable_type             0\n",
              "started_at                0\n",
              "ended_at                  0\n",
              "start_station_name     8625\n",
              "start_station_id       8625\n",
              "end_station_name      10277\n",
              "end_station_id        10277\n",
              "start_lat                 0\n",
              "start_lng                 0\n",
              "end_lat                 103\n",
              "end_lng                 103\n",
              "member_casual             0\n",
              "day_of_week               0\n",
              "ride_length               2\n",
              "ride_length_secs          2\n",
              "dtype: int64"
            ]
          },
          "execution_count": 22,
          "metadata": {},
          "output_type": "execute_result"
        }
      ],
      "source": [
        "data.isna().sum()"
      ]
    },
    {
      "cell_type": "code",
      "execution_count": null,
      "metadata": {
        "id": "jWHz46o-qY3W",
        "outputId": "01c79f21-c6e9-463f-c9ef-6268dca6c148"
      },
      "outputs": [
        {
          "data": {
            "text/html": [
              "<div>\n",
              "<style scoped>\n",
              "    .dataframe tbody tr th:only-of-type {\n",
              "        vertical-align: middle;\n",
              "    }\n",
              "\n",
              "    .dataframe tbody tr th {\n",
              "        vertical-align: top;\n",
              "    }\n",
              "\n",
              "    .dataframe thead th {\n",
              "        text-align: right;\n",
              "    }\n",
              "</style>\n",
              "<table border=\"1\" class=\"dataframe\">\n",
              "  <thead>\n",
              "    <tr style=\"text-align: right;\">\n",
              "      <th></th>\n",
              "      <th>start_lat</th>\n",
              "      <th>start_lng</th>\n",
              "      <th>end_lat</th>\n",
              "      <th>end_lng</th>\n",
              "      <th>ride_length</th>\n",
              "      <th>ride_length_secs</th>\n",
              "    </tr>\n",
              "  </thead>\n",
              "  <tbody>\n",
              "    <tr>\n",
              "      <td>count</td>\n",
              "      <td>96834.000000</td>\n",
              "      <td>96834.000000</td>\n",
              "      <td>96731.000000</td>\n",
              "      <td>96731.000000</td>\n",
              "      <td>96832</td>\n",
              "      <td>9.683200e+04</td>\n",
              "    </tr>\n",
              "    <tr>\n",
              "      <td>mean</td>\n",
              "      <td>41.900482</td>\n",
              "      <td>-87.646076</td>\n",
              "      <td>41.900594</td>\n",
              "      <td>-87.646288</td>\n",
              "      <td>0 days 00:15:16.152511</td>\n",
              "      <td>9.161525e+02</td>\n",
              "    </tr>\n",
              "    <tr>\n",
              "      <td>std</td>\n",
              "      <td>0.047050</td>\n",
              "      <td>0.027148</td>\n",
              "      <td>0.047140</td>\n",
              "      <td>0.027215</td>\n",
              "      <td>0 days 01:23:56.502415</td>\n",
              "      <td>5.036502e+03</td>\n",
              "    </tr>\n",
              "    <tr>\n",
              "      <td>min</td>\n",
              "      <td>41.640000</td>\n",
              "      <td>-87.780000</td>\n",
              "      <td>41.640000</td>\n",
              "      <td>-87.810000</td>\n",
              "      <td>0 days 00:00:00</td>\n",
              "      <td>0.000000e+00</td>\n",
              "    </tr>\n",
              "    <tr>\n",
              "      <td>25%</td>\n",
              "      <td>41.881320</td>\n",
              "      <td>-87.660285</td>\n",
              "      <td>41.881320</td>\n",
              "      <td>-87.660984</td>\n",
              "      <td>0 days 00:06:00</td>\n",
              "      <td>3.600000e+02</td>\n",
              "    </tr>\n",
              "    <tr>\n",
              "      <td>50%</td>\n",
              "      <td>41.896857</td>\n",
              "      <td>-87.643118</td>\n",
              "      <td>41.896910</td>\n",
              "      <td>-87.643525</td>\n",
              "      <td>0 days 00:09:00</td>\n",
              "      <td>5.400000e+02</td>\n",
              "    </tr>\n",
              "    <tr>\n",
              "      <td>75%</td>\n",
              "      <td>41.929143</td>\n",
              "      <td>-87.629544</td>\n",
              "      <td>41.929466</td>\n",
              "      <td>-87.629544</td>\n",
              "      <td>0 days 00:16:00</td>\n",
              "      <td>9.600000e+02</td>\n",
              "    </tr>\n",
              "    <tr>\n",
              "      <td>max</td>\n",
              "      <td>42.064854</td>\n",
              "      <td>-87.528232</td>\n",
              "      <td>42.070000</td>\n",
              "      <td>-87.510000</td>\n",
              "      <td>13 days 18:26:00</td>\n",
              "      <td>1.189560e+06</td>\n",
              "    </tr>\n",
              "  </tbody>\n",
              "</table>\n",
              "</div>"
            ],
            "text/plain": [
              "          start_lat     start_lng       end_lat       end_lng  \\\n",
              "count  96834.000000  96834.000000  96731.000000  96731.000000   \n",
              "mean      41.900482    -87.646076     41.900594    -87.646288   \n",
              "std        0.047050      0.027148      0.047140      0.027215   \n",
              "min       41.640000    -87.780000     41.640000    -87.810000   \n",
              "25%       41.881320    -87.660285     41.881320    -87.660984   \n",
              "50%       41.896857    -87.643118     41.896910    -87.643525   \n",
              "75%       41.929143    -87.629544     41.929466    -87.629544   \n",
              "max       42.064854    -87.528232     42.070000    -87.510000   \n",
              "\n",
              "                  ride_length  ride_length_secs  \n",
              "count                   96832      9.683200e+04  \n",
              "mean   0 days 00:15:16.152511      9.161525e+02  \n",
              "std    0 days 01:23:56.502415      5.036502e+03  \n",
              "min           0 days 00:00:00      0.000000e+00  \n",
              "25%           0 days 00:06:00      3.600000e+02  \n",
              "50%           0 days 00:09:00      5.400000e+02  \n",
              "75%           0 days 00:16:00      9.600000e+02  \n",
              "max          13 days 18:26:00      1.189560e+06  "
            ]
          },
          "execution_count": 23,
          "metadata": {},
          "output_type": "execute_result"
        }
      ],
      "source": [
        "data.describe()"
      ]
    },
    {
      "cell_type": "code",
      "execution_count": null,
      "metadata": {
        "id": "0WYUj2ViqY3X"
      },
      "outputs": [],
      "source": [
        "data['end_station_name']=data['end_station_name'].fillna(data['end_station_name'].mode()[0])\n",
        "data['end_station_id']=data['end_station_id'].fillna(data['end_station_id'].mode()[0])\n",
        "data['start_station_name']=data['start_station_name'].fillna(data['start_station_name'].mode()[0])\n",
        "data['start_station_id']=data['start_station_id'].fillna(data['start_station_id'].mode()[0])\n",
        "data['end_lat']=data['end_lat'].fillna(data['end_lat'].mean())\n",
        "data['end_lng']=data['end_lng'].fillna(data['end_lng'].mean())\n",
        "\n",
        "\n",
        "## Filling the missing values, the categorical columns are filled with the mode and numerical columns are filled with the mean of the column"
      ]
    },
    {
      "cell_type": "code",
      "execution_count": null,
      "metadata": {
        "id": "ZCFfwudSqY3Y",
        "outputId": "8f772f21-216f-49ae-fc8f-c1b691ad91c3"
      },
      "outputs": [
        {
          "data": {
            "text/plain": [
              "<bound method DataFrame.sum of        ride_id  rideable_type  started_at  ended_at  start_station_name  \\\n",
              "0        False          False       False     False               False   \n",
              "1        False          False       False     False               False   \n",
              "2        False          False       False     False               False   \n",
              "3        False          False       False     False               False   \n",
              "4        False          False       False     False               False   \n",
              "...        ...            ...         ...       ...                 ...   \n",
              "96829    False          False       False     False               False   \n",
              "96830    False          False       False     False               False   \n",
              "96831    False          False       False     False               False   \n",
              "96832    False          False       False     False               False   \n",
              "96833    False          False       False     False               False   \n",
              "\n",
              "       start_station_id  end_station_name  end_station_id  start_lat  \\\n",
              "0                 False             False           False      False   \n",
              "1                 False             False           False      False   \n",
              "2                 False             False           False      False   \n",
              "3                 False             False           False      False   \n",
              "4                 False             False           False      False   \n",
              "...                 ...               ...             ...        ...   \n",
              "96829             False             False           False      False   \n",
              "96830             False             False           False      False   \n",
              "96831             False             False           False      False   \n",
              "96832             False             False           False      False   \n",
              "96833             False             False           False      False   \n",
              "\n",
              "       start_lng  end_lat  end_lng  member_casual  day_of_week  ride_length  \\\n",
              "0          False    False    False          False        False        False   \n",
              "1          False    False    False          False        False        False   \n",
              "2          False    False    False          False        False        False   \n",
              "3          False    False    False          False        False        False   \n",
              "4          False    False    False          False        False        False   \n",
              "...          ...      ...      ...            ...          ...          ...   \n",
              "96829      False    False    False          False        False        False   \n",
              "96830      False    False    False          False        False        False   \n",
              "96831      False    False    False          False        False        False   \n",
              "96832      False    False    False          False        False        False   \n",
              "96833      False    False    False          False        False        False   \n",
              "\n",
              "       ride_length_secs  \n",
              "0                 False  \n",
              "1                 False  \n",
              "2                 False  \n",
              "3                 False  \n",
              "4                 False  \n",
              "...                 ...  \n",
              "96829             False  \n",
              "96830             False  \n",
              "96831             False  \n",
              "96832             False  \n",
              "96833             False  \n",
              "\n",
              "[96834 rows x 16 columns]>"
            ]
          },
          "execution_count": 67,
          "metadata": {},
          "output_type": "execute_result"
        }
      ],
      "source": [
        "data.isna().sum"
      ]
    },
    {
      "cell_type": "code",
      "execution_count": null,
      "metadata": {
        "id": "OEPhMMvrqY3Z",
        "outputId": "74a22988-c718-4f12-d0ca-982487fa9129"
      },
      "outputs": [
        {
          "data": {
            "text/plain": [
              "ride_id               0\n",
              "rideable_type         0\n",
              "started_at            0\n",
              "ended_at              0\n",
              "start_station_name    0\n",
              "start_station_id      0\n",
              "end_station_name      0\n",
              "end_station_id        0\n",
              "start_lat             0\n",
              "start_lng             0\n",
              "end_lat               0\n",
              "end_lng               0\n",
              "member_casual         0\n",
              "day_of_week           0\n",
              "ride_length           2\n",
              "ride_length_secs      2\n",
              "dtype: int64"
            ]
          },
          "execution_count": 25,
          "metadata": {},
          "output_type": "execute_result"
        }
      ],
      "source": [
        "data.isna().sum()"
      ]
    },
    {
      "cell_type": "code",
      "execution_count": null,
      "metadata": {
        "id": "GGMhiyx8qY3a"
      },
      "outputs": [],
      "source": [
        "data=data.dropna(axis=0)"
      ]
    },
    {
      "cell_type": "code",
      "execution_count": null,
      "metadata": {
        "id": "GFXiWzd0qY3a",
        "outputId": "adece58b-c78a-4fb8-a0fd-5478e0b65d17"
      },
      "outputs": [
        {
          "data": {
            "text/plain": [
              "<bound method DataFrame.sum of        ride_id  rideable_type  started_at  ended_at  start_station_name  \\\n",
              "0        False          False       False     False               False   \n",
              "1        False          False       False     False               False   \n",
              "2        False          False       False     False               False   \n",
              "3        False          False       False     False               False   \n",
              "4        False          False       False     False               False   \n",
              "...        ...            ...         ...       ...                 ...   \n",
              "96829    False          False       False     False               False   \n",
              "96830    False          False       False     False               False   \n",
              "96831    False          False       False     False               False   \n",
              "96832    False          False       False     False               False   \n",
              "96833    False          False       False     False               False   \n",
              "\n",
              "       start_station_id  end_station_name  end_station_id  start_lat  \\\n",
              "0                 False             False           False      False   \n",
              "1                 False             False           False      False   \n",
              "2                 False             False           False      False   \n",
              "3                 False             False           False      False   \n",
              "4                 False             False           False      False   \n",
              "...                 ...               ...             ...        ...   \n",
              "96829             False             False           False      False   \n",
              "96830             False             False           False      False   \n",
              "96831             False             False           False      False   \n",
              "96832             False             False           False      False   \n",
              "96833             False             False           False      False   \n",
              "\n",
              "       start_lng  end_lat  end_lng  member_casual  day_of_week  ride_length  \\\n",
              "0          False    False    False          False        False        False   \n",
              "1          False    False    False          False        False        False   \n",
              "2          False    False    False          False        False        False   \n",
              "3          False    False    False          False        False        False   \n",
              "4          False    False    False          False        False        False   \n",
              "...          ...      ...      ...            ...          ...          ...   \n",
              "96829      False    False    False          False        False        False   \n",
              "96830      False    False    False          False        False        False   \n",
              "96831      False    False    False          False        False        False   \n",
              "96832      False    False    False          False        False        False   \n",
              "96833      False    False    False          False        False        False   \n",
              "\n",
              "       ride_length_secs  \n",
              "0                 False  \n",
              "1                 False  \n",
              "2                 False  \n",
              "3                 False  \n",
              "4                 False  \n",
              "...                 ...  \n",
              "96829             False  \n",
              "96830             False  \n",
              "96831             False  \n",
              "96832             False  \n",
              "96833             False  \n",
              "\n",
              "[96832 rows x 16 columns]>"
            ]
          },
          "execution_count": 27,
          "metadata": {},
          "output_type": "execute_result"
        }
      ],
      "source": [
        "data.isna().sum"
      ]
    },
    {
      "cell_type": "code",
      "execution_count": null,
      "metadata": {
        "id": "R1ERKt-HqY3c",
        "outputId": "60eda6d5-27ca-49da-a850-65f8c6e11923"
      },
      "outputs": [
        {
          "data": {
            "text/html": [
              "<div>\n",
              "<style scoped>\n",
              "    .dataframe tbody tr th:only-of-type {\n",
              "        vertical-align: middle;\n",
              "    }\n",
              "\n",
              "    .dataframe tbody tr th {\n",
              "        vertical-align: top;\n",
              "    }\n",
              "\n",
              "    .dataframe thead th {\n",
              "        text-align: right;\n",
              "    }\n",
              "</style>\n",
              "<table border=\"1\" class=\"dataframe\">\n",
              "  <thead>\n",
              "    <tr style=\"text-align: right;\">\n",
              "      <th></th>\n",
              "      <th>start_lat</th>\n",
              "      <th>start_lng</th>\n",
              "      <th>end_lat</th>\n",
              "      <th>end_lng</th>\n",
              "      <th>ride_length</th>\n",
              "      <th>ride_length_secs</th>\n",
              "    </tr>\n",
              "  </thead>\n",
              "  <tbody>\n",
              "    <tr>\n",
              "      <td>count</td>\n",
              "      <td>96832.000000</td>\n",
              "      <td>96832.000000</td>\n",
              "      <td>96832.000000</td>\n",
              "      <td>96832.000000</td>\n",
              "      <td>96832</td>\n",
              "      <td>9.683200e+04</td>\n",
              "    </tr>\n",
              "    <tr>\n",
              "      <td>mean</td>\n",
              "      <td>41.900482</td>\n",
              "      <td>-87.646075</td>\n",
              "      <td>41.900594</td>\n",
              "      <td>-87.646288</td>\n",
              "      <td>0 days 00:15:16.152511</td>\n",
              "      <td>9.161525e+02</td>\n",
              "    </tr>\n",
              "    <tr>\n",
              "      <td>std</td>\n",
              "      <td>0.047050</td>\n",
              "      <td>0.027147</td>\n",
              "      <td>0.047115</td>\n",
              "      <td>0.027201</td>\n",
              "      <td>0 days 01:23:56.502415</td>\n",
              "      <td>5.036502e+03</td>\n",
              "    </tr>\n",
              "    <tr>\n",
              "      <td>min</td>\n",
              "      <td>41.640000</td>\n",
              "      <td>-87.780000</td>\n",
              "      <td>41.640000</td>\n",
              "      <td>-87.810000</td>\n",
              "      <td>0 days 00:00:00</td>\n",
              "      <td>0.000000e+00</td>\n",
              "    </tr>\n",
              "    <tr>\n",
              "      <td>25%</td>\n",
              "      <td>41.881320</td>\n",
              "      <td>-87.660285</td>\n",
              "      <td>41.881320</td>\n",
              "      <td>-87.660984</td>\n",
              "      <td>0 days 00:06:00</td>\n",
              "      <td>3.600000e+02</td>\n",
              "    </tr>\n",
              "    <tr>\n",
              "      <td>50%</td>\n",
              "      <td>41.896857</td>\n",
              "      <td>-87.643118</td>\n",
              "      <td>41.896910</td>\n",
              "      <td>-87.643746</td>\n",
              "      <td>0 days 00:09:00</td>\n",
              "      <td>5.400000e+02</td>\n",
              "    </tr>\n",
              "    <tr>\n",
              "      <td>75%</td>\n",
              "      <td>41.929143</td>\n",
              "      <td>-87.629544</td>\n",
              "      <td>41.929465</td>\n",
              "      <td>-87.629544</td>\n",
              "      <td>0 days 00:16:00</td>\n",
              "      <td>9.600000e+02</td>\n",
              "    </tr>\n",
              "    <tr>\n",
              "      <td>max</td>\n",
              "      <td>42.064854</td>\n",
              "      <td>-87.528232</td>\n",
              "      <td>42.070000</td>\n",
              "      <td>-87.510000</td>\n",
              "      <td>13 days 18:26:00</td>\n",
              "      <td>1.189560e+06</td>\n",
              "    </tr>\n",
              "  </tbody>\n",
              "</table>\n",
              "</div>"
            ],
            "text/plain": [
              "          start_lat     start_lng       end_lat       end_lng  \\\n",
              "count  96832.000000  96832.000000  96832.000000  96832.000000   \n",
              "mean      41.900482    -87.646075     41.900594    -87.646288   \n",
              "std        0.047050      0.027147      0.047115      0.027201   \n",
              "min       41.640000    -87.780000     41.640000    -87.810000   \n",
              "25%       41.881320    -87.660285     41.881320    -87.660984   \n",
              "50%       41.896857    -87.643118     41.896910    -87.643746   \n",
              "75%       41.929143    -87.629544     41.929465    -87.629544   \n",
              "max       42.064854    -87.528232     42.070000    -87.510000   \n",
              "\n",
              "                  ride_length  ride_length_secs  \n",
              "count                   96832      9.683200e+04  \n",
              "mean   0 days 00:15:16.152511      9.161525e+02  \n",
              "std    0 days 01:23:56.502415      5.036502e+03  \n",
              "min           0 days 00:00:00      0.000000e+00  \n",
              "25%           0 days 00:06:00      3.600000e+02  \n",
              "50%           0 days 00:09:00      5.400000e+02  \n",
              "75%           0 days 00:16:00      9.600000e+02  \n",
              "max          13 days 18:26:00      1.189560e+06  "
            ]
          },
          "execution_count": 28,
          "metadata": {},
          "output_type": "execute_result"
        }
      ],
      "source": [
        "data.describe()"
      ]
    },
    {
      "cell_type": "code",
      "execution_count": null,
      "metadata": {
        "id": "ghmPlA9kqY3d",
        "outputId": "f470488b-e7b1-4bda-d17c-db914882fc2e"
      },
      "outputs": [
        {
          "data": {
            "text/plain": [
              "ride_id               0\n",
              "rideable_type         0\n",
              "started_at            0\n",
              "ended_at              0\n",
              "start_station_name    0\n",
              "start_station_id      0\n",
              "end_station_name      0\n",
              "end_station_id        0\n",
              "start_lat             0\n",
              "start_lng             0\n",
              "end_lat               0\n",
              "end_lng               0\n",
              "member_casual         0\n",
              "day_of_week           0\n",
              "ride_length           0\n",
              "ride_length_secs      0\n",
              "dtype: int64"
            ]
          },
          "execution_count": 29,
          "metadata": {},
          "output_type": "execute_result"
        }
      ],
      "source": [
        "data.isna().sum()"
      ]
    },
    {
      "cell_type": "code",
      "execution_count": null,
      "metadata": {
        "id": "FX_XRaJTqY3f"
      },
      "outputs": [],
      "source": [
        "cyclist01=data"
      ]
    },
    {
      "cell_type": "code",
      "execution_count": null,
      "metadata": {
        "id": "5gAaTqL5qY3g",
        "outputId": "361548a0-06fb-4ceb-b0ff-f17b58559fc3"
      },
      "outputs": [
        {
          "data": {
            "text/html": [
              "<div>\n",
              "<style scoped>\n",
              "    .dataframe tbody tr th:only-of-type {\n",
              "        vertical-align: middle;\n",
              "    }\n",
              "\n",
              "    .dataframe tbody tr th {\n",
              "        vertical-align: top;\n",
              "    }\n",
              "\n",
              "    .dataframe thead th {\n",
              "        text-align: right;\n",
              "    }\n",
              "</style>\n",
              "<table border=\"1\" class=\"dataframe\">\n",
              "  <thead>\n",
              "    <tr style=\"text-align: right;\">\n",
              "      <th></th>\n",
              "      <th>ride_id</th>\n",
              "      <th>rideable_type</th>\n",
              "      <th>started_at</th>\n",
              "      <th>ended_at</th>\n",
              "      <th>start_station_name</th>\n",
              "      <th>start_station_id</th>\n",
              "      <th>end_station_name</th>\n",
              "      <th>end_station_id</th>\n",
              "      <th>start_lat</th>\n",
              "      <th>start_lng</th>\n",
              "      <th>end_lat</th>\n",
              "      <th>end_lng</th>\n",
              "      <th>member_casual</th>\n",
              "      <th>day_of_week</th>\n",
              "      <th>ride_length</th>\n",
              "      <th>ride_length_secs</th>\n",
              "    </tr>\n",
              "  </thead>\n",
              "  <tbody>\n",
              "    <tr>\n",
              "      <td>0</td>\n",
              "      <td>E19E6F1B8D4C42ED</td>\n",
              "      <td>electric_bike</td>\n",
              "      <td>2021-01-23 16:14:00</td>\n",
              "      <td>2021-01-23 16:24:00</td>\n",
              "      <td>California Ave &amp; Cortez St</td>\n",
              "      <td>17660</td>\n",
              "      <td>Dearborn St &amp; Erie St</td>\n",
              "      <td>13045</td>\n",
              "      <td>41.900341</td>\n",
              "      <td>-87.696743</td>\n",
              "      <td>41.89</td>\n",
              "      <td>-87.72</td>\n",
              "      <td>member</td>\n",
              "      <td>Saturday</td>\n",
              "      <td>00:10:00</td>\n",
              "      <td>600.0</td>\n",
              "    </tr>\n",
              "    <tr>\n",
              "      <td>1</td>\n",
              "      <td>DC88F20C2C55F27F</td>\n",
              "      <td>electric_bike</td>\n",
              "      <td>2021-01-27 18:43:00</td>\n",
              "      <td>2021-01-27 18:47:00</td>\n",
              "      <td>California Ave &amp; Cortez St</td>\n",
              "      <td>17660</td>\n",
              "      <td>Dearborn St &amp; Erie St</td>\n",
              "      <td>13045</td>\n",
              "      <td>41.900333</td>\n",
              "      <td>-87.696707</td>\n",
              "      <td>41.90</td>\n",
              "      <td>-87.69</td>\n",
              "      <td>member</td>\n",
              "      <td>Wednesday</td>\n",
              "      <td>00:04:00</td>\n",
              "      <td>240.0</td>\n",
              "    </tr>\n",
              "    <tr>\n",
              "      <td>2</td>\n",
              "      <td>EC45C94683FE3F27</td>\n",
              "      <td>electric_bike</td>\n",
              "      <td>2021-01-21 22:35:00</td>\n",
              "      <td>2021-01-21 22:37:00</td>\n",
              "      <td>California Ave &amp; Cortez St</td>\n",
              "      <td>17660</td>\n",
              "      <td>Dearborn St &amp; Erie St</td>\n",
              "      <td>13045</td>\n",
              "      <td>41.900313</td>\n",
              "      <td>-87.696643</td>\n",
              "      <td>41.90</td>\n",
              "      <td>-87.70</td>\n",
              "      <td>member</td>\n",
              "      <td>Thursday</td>\n",
              "      <td>00:02:00</td>\n",
              "      <td>120.0</td>\n",
              "    </tr>\n",
              "    <tr>\n",
              "      <td>3</td>\n",
              "      <td>4FA453A75AE377DB</td>\n",
              "      <td>electric_bike</td>\n",
              "      <td>2021-01-07 13:31:00</td>\n",
              "      <td>2021-01-07 13:42:00</td>\n",
              "      <td>California Ave &amp; Cortez St</td>\n",
              "      <td>17660</td>\n",
              "      <td>Dearborn St &amp; Erie St</td>\n",
              "      <td>13045</td>\n",
              "      <td>41.900399</td>\n",
              "      <td>-87.696662</td>\n",
              "      <td>41.92</td>\n",
              "      <td>-87.69</td>\n",
              "      <td>member</td>\n",
              "      <td>Thursday</td>\n",
              "      <td>00:11:00</td>\n",
              "      <td>660.0</td>\n",
              "    </tr>\n",
              "    <tr>\n",
              "      <td>4</td>\n",
              "      <td>BE5E8EB4E7263A0B</td>\n",
              "      <td>electric_bike</td>\n",
              "      <td>2021-01-23 02:24:00</td>\n",
              "      <td>2021-01-23 02:24:00</td>\n",
              "      <td>California Ave &amp; Cortez St</td>\n",
              "      <td>17660</td>\n",
              "      <td>Dearborn St &amp; Erie St</td>\n",
              "      <td>13045</td>\n",
              "      <td>41.900326</td>\n",
              "      <td>-87.696697</td>\n",
              "      <td>41.90</td>\n",
              "      <td>-87.70</td>\n",
              "      <td>casual</td>\n",
              "      <td>Saturday</td>\n",
              "      <td>00:00:00</td>\n",
              "      <td>0.0</td>\n",
              "    </tr>\n",
              "  </tbody>\n",
              "</table>\n",
              "</div>"
            ],
            "text/plain": [
              "            ride_id  rideable_type          started_at            ended_at  \\\n",
              "0  E19E6F1B8D4C42ED  electric_bike 2021-01-23 16:14:00 2021-01-23 16:24:00   \n",
              "1  DC88F20C2C55F27F  electric_bike 2021-01-27 18:43:00 2021-01-27 18:47:00   \n",
              "2  EC45C94683FE3F27  electric_bike 2021-01-21 22:35:00 2021-01-21 22:37:00   \n",
              "3  4FA453A75AE377DB  electric_bike 2021-01-07 13:31:00 2021-01-07 13:42:00   \n",
              "4  BE5E8EB4E7263A0B  electric_bike 2021-01-23 02:24:00 2021-01-23 02:24:00   \n",
              "\n",
              "           start_station_name start_station_id       end_station_name  \\\n",
              "0  California Ave & Cortez St            17660  Dearborn St & Erie St   \n",
              "1  California Ave & Cortez St            17660  Dearborn St & Erie St   \n",
              "2  California Ave & Cortez St            17660  Dearborn St & Erie St   \n",
              "3  California Ave & Cortez St            17660  Dearborn St & Erie St   \n",
              "4  California Ave & Cortez St            17660  Dearborn St & Erie St   \n",
              "\n",
              "  end_station_id  start_lat  start_lng  end_lat  end_lng member_casual  \\\n",
              "0          13045  41.900341 -87.696743    41.89   -87.72        member   \n",
              "1          13045  41.900333 -87.696707    41.90   -87.69        member   \n",
              "2          13045  41.900313 -87.696643    41.90   -87.70        member   \n",
              "3          13045  41.900399 -87.696662    41.92   -87.69        member   \n",
              "4          13045  41.900326 -87.696697    41.90   -87.70        casual   \n",
              "\n",
              "  day_of_week ride_length  ride_length_secs  \n",
              "0    Saturday    00:10:00             600.0  \n",
              "1   Wednesday    00:04:00             240.0  \n",
              "2    Thursday    00:02:00             120.0  \n",
              "3    Thursday    00:11:00             660.0  \n",
              "4    Saturday    00:00:00               0.0  "
            ]
          },
          "execution_count": 31,
          "metadata": {},
          "output_type": "execute_result"
        }
      ],
      "source": [
        "cyclist01.head()"
      ]
    },
    {
      "cell_type": "code",
      "execution_count": null,
      "metadata": {
        "id": "RKU-Xjs5qY3h",
        "outputId": "0d4faee5-c8a0-4f1f-a7cc-59b50d8581ea"
      },
      "outputs": [
        {
          "data": {
            "text/html": [
              "<div>\n",
              "<style scoped>\n",
              "    .dataframe tbody tr th:only-of-type {\n",
              "        vertical-align: middle;\n",
              "    }\n",
              "\n",
              "    .dataframe tbody tr th {\n",
              "        vertical-align: top;\n",
              "    }\n",
              "\n",
              "    .dataframe thead th {\n",
              "        text-align: right;\n",
              "    }\n",
              "</style>\n",
              "<table border=\"1\" class=\"dataframe\">\n",
              "  <thead>\n",
              "    <tr style=\"text-align: right;\">\n",
              "      <th></th>\n",
              "      <th>start_lat</th>\n",
              "      <th>start_lng</th>\n",
              "      <th>end_lat</th>\n",
              "      <th>end_lng</th>\n",
              "      <th>ride_length</th>\n",
              "      <th>ride_length_secs</th>\n",
              "    </tr>\n",
              "  </thead>\n",
              "  <tbody>\n",
              "    <tr>\n",
              "      <td>count</td>\n",
              "      <td>96832.000000</td>\n",
              "      <td>96832.000000</td>\n",
              "      <td>96832.000000</td>\n",
              "      <td>96832.000000</td>\n",
              "      <td>96832</td>\n",
              "      <td>9.683200e+04</td>\n",
              "    </tr>\n",
              "    <tr>\n",
              "      <td>mean</td>\n",
              "      <td>41.900482</td>\n",
              "      <td>-87.646075</td>\n",
              "      <td>41.900594</td>\n",
              "      <td>-87.646288</td>\n",
              "      <td>0 days 00:15:16.152511</td>\n",
              "      <td>9.161525e+02</td>\n",
              "    </tr>\n",
              "    <tr>\n",
              "      <td>std</td>\n",
              "      <td>0.047050</td>\n",
              "      <td>0.027147</td>\n",
              "      <td>0.047115</td>\n",
              "      <td>0.027201</td>\n",
              "      <td>0 days 01:23:56.502415</td>\n",
              "      <td>5.036502e+03</td>\n",
              "    </tr>\n",
              "    <tr>\n",
              "      <td>min</td>\n",
              "      <td>41.640000</td>\n",
              "      <td>-87.780000</td>\n",
              "      <td>41.640000</td>\n",
              "      <td>-87.810000</td>\n",
              "      <td>0 days 00:00:00</td>\n",
              "      <td>0.000000e+00</td>\n",
              "    </tr>\n",
              "    <tr>\n",
              "      <td>25%</td>\n",
              "      <td>41.881320</td>\n",
              "      <td>-87.660285</td>\n",
              "      <td>41.881320</td>\n",
              "      <td>-87.660984</td>\n",
              "      <td>0 days 00:06:00</td>\n",
              "      <td>3.600000e+02</td>\n",
              "    </tr>\n",
              "    <tr>\n",
              "      <td>50%</td>\n",
              "      <td>41.896857</td>\n",
              "      <td>-87.643118</td>\n",
              "      <td>41.896910</td>\n",
              "      <td>-87.643746</td>\n",
              "      <td>0 days 00:09:00</td>\n",
              "      <td>5.400000e+02</td>\n",
              "    </tr>\n",
              "    <tr>\n",
              "      <td>75%</td>\n",
              "      <td>41.929143</td>\n",
              "      <td>-87.629544</td>\n",
              "      <td>41.929465</td>\n",
              "      <td>-87.629544</td>\n",
              "      <td>0 days 00:16:00</td>\n",
              "      <td>9.600000e+02</td>\n",
              "    </tr>\n",
              "    <tr>\n",
              "      <td>max</td>\n",
              "      <td>42.064854</td>\n",
              "      <td>-87.528232</td>\n",
              "      <td>42.070000</td>\n",
              "      <td>-87.510000</td>\n",
              "      <td>13 days 18:26:00</td>\n",
              "      <td>1.189560e+06</td>\n",
              "    </tr>\n",
              "  </tbody>\n",
              "</table>\n",
              "</div>"
            ],
            "text/plain": [
              "          start_lat     start_lng       end_lat       end_lng  \\\n",
              "count  96832.000000  96832.000000  96832.000000  96832.000000   \n",
              "mean      41.900482    -87.646075     41.900594    -87.646288   \n",
              "std        0.047050      0.027147      0.047115      0.027201   \n",
              "min       41.640000    -87.780000     41.640000    -87.810000   \n",
              "25%       41.881320    -87.660285     41.881320    -87.660984   \n",
              "50%       41.896857    -87.643118     41.896910    -87.643746   \n",
              "75%       41.929143    -87.629544     41.929465    -87.629544   \n",
              "max       42.064854    -87.528232     42.070000    -87.510000   \n",
              "\n",
              "                  ride_length  ride_length_secs  \n",
              "count                   96832      9.683200e+04  \n",
              "mean   0 days 00:15:16.152511      9.161525e+02  \n",
              "std    0 days 01:23:56.502415      5.036502e+03  \n",
              "min           0 days 00:00:00      0.000000e+00  \n",
              "25%           0 days 00:06:00      3.600000e+02  \n",
              "50%           0 days 00:09:00      5.400000e+02  \n",
              "75%           0 days 00:16:00      9.600000e+02  \n",
              "max          13 days 18:26:00      1.189560e+06  "
            ]
          },
          "execution_count": 33,
          "metadata": {},
          "output_type": "execute_result"
        }
      ],
      "source": [
        "cyclist01.describe()"
      ]
    },
    {
      "cell_type": "code",
      "execution_count": null,
      "metadata": {
        "id": "glaBgxFaqY3h",
        "outputId": "69edd6e2-2bb5-4341-d5ba-5d34636e071d"
      },
      "outputs": [
        {
          "data": {
            "text/plain": [
              "rideable_type\n",
              "classic_bike      895.462487\n",
              "docked_bike      4187.549858\n",
              "electric_bike     746.200382\n",
              "Name: ride_length_secs, dtype: float64"
            ]
          },
          "execution_count": 34,
          "metadata": {},
          "output_type": "execute_result"
        }
      ],
      "source": [
        "cyclist01.groupby('rideable_type').ride_length_secs.mean()"
      ]
    },
    {
      "cell_type": "code",
      "execution_count": null,
      "metadata": {
        "id": "WQ82AkZhqY3i",
        "outputId": "45391f2e-38dd-425a-8415-bf09e7334b58"
      },
      "outputs": [
        {
          "data": {
            "text/plain": [
              "<matplotlib.axes._subplots.AxesSubplot at 0x1969fd0>"
            ]
          },
          "execution_count": 35,
          "metadata": {},
          "output_type": "execute_result"
        },
        {
          "data": {
            "image/png": "[encoded data removed]",
            "text/plain": [
              "<Figure size 432x288 with 1 Axes>"
            ]
          },
          "metadata": {
            "needs_background": "light"
          },
          "output_type": "display_data"
        }
      ],
      "source": [
        "a=cyclist01.groupby('rideable_type').ride_length_secs.mean()\n",
        "fig=plt.figure()\n",
        "ax1=fig.add_subplot(1,1,1)\n",
        "ax1.set_xlabel('rideable_type')\n",
        "ax1.set_ylabel('Mean of ride length')\n",
        "ax1.set_title('Mean of ride length vs rideable types of bike')\n",
        "a.plot(kind='bar')"
      ]
    },
    {
      "cell_type": "code",
      "execution_count": null,
      "metadata": {
        "id": "AAhp_F_YqY3k",
        "outputId": "adbeaf20-43b6-471a-dced-1b730e296302"
      },
      "outputs": [
        {
          "data": {
            "text/plain": [
              "<matplotlib.axes._subplots.AxesSubplot at 0x16a0fd0>"
            ]
          },
          "execution_count": 37,
          "metadata": {},
          "output_type": "execute_result"
        },
        {
          "data": {
            "image/png": "[encoded data removed]",
            "text/plain": [
              "<Figure size 432x288 with 1 Axes>"
            ]
          },
          "metadata": {
            "needs_background": "light"
          },
          "output_type": "display_data"
        }
      ],
      "source": [
        "a=cyclist01.groupby('rideable_type').ride_length_secs.sum()\n",
        "fig=plt.figure()\n",
        "ax1=fig.add_subplot(1,1,1)\n",
        "ax1.set_xlabel('rideable_type')\n",
        "ax1.set_ylabel('Sum of ride length')\n",
        "ax1.set_title('Sum of ride length vs rideable types of bike')\n",
        "a.plot(kind='bar')"
      ]
    },
    {
      "cell_type": "code",
      "execution_count": null,
      "metadata": {
        "id": "9EKk2Yz7qY3l",
        "outputId": "d9fb4c64-7809-48d6-c1ad-387d32f90f20"
      },
      "outputs": [
        {
          "data": {
            "text/plain": [
              "rideable_type\n",
              "classic_bike     55249140.0\n",
              "docked_bike       8818980.0\n",
              "electric_bike    24644760.0\n",
              "Name: ride_length_secs, dtype: float64"
            ]
          },
          "execution_count": 38,
          "metadata": {},
          "output_type": "execute_result"
        }
      ],
      "source": [
        "cyclist01.groupby('rideable_type').ride_length_secs.sum()"
      ]
    },
    {
      "cell_type": "code",
      "execution_count": null,
      "metadata": {
        "id": "u5sFb8CpqY3m",
        "outputId": "ec7a1e58-1003-4482-daf2-2b3fa0559052"
      },
      "outputs": [
        {
          "data": {
            "text/plain": [
              "day_of_week\n",
              "Saturday     17649780.0\n",
              "Friday       13258680.0\n",
              "Wednesday    12269340.0\n",
              "Sunday       12131280.0\n",
              "Thursday     11850240.0\n",
              "Monday       11399340.0\n",
              "Tuesday      10154220.0\n",
              "Name: ride_length_secs, dtype: float64"
            ]
          },
          "execution_count": 39,
          "metadata": {},
          "output_type": "execute_result"
        }
      ],
      "source": [
        "cyclist01.groupby('day_of_week').ride_length_secs.sum().sort_values(ascending=False)"
      ]
    },
    {
      "cell_type": "code",
      "execution_count": null,
      "metadata": {
        "id": "NCSRL7HMqY4D",
        "outputId": "b5698e7f-bc0f-423c-bbe6-0de636ffa931"
      },
      "outputs": [
        {
          "data": {
            "text/plain": [
              "<matplotlib.axes._subplots.AxesSubplot at 0x17a11b0>"
            ]
          },
          "execution_count": 40,
          "metadata": {},
          "output_type": "execute_result"
        },
        {
          "data": {
            "image/png": "[encoded data removed]",
            "text/plain": [
              "<Figure size 432x288 with 1 Axes>"
            ]
          },
          "metadata": {
            "needs_background": "light"
          },
          "output_type": "display_data"
        }
      ],
      "source": [
        "a=cyclist01.groupby('day_of_week').ride_length_secs.sum()\n",
        "fig=plt.figure()\n",
        "ax1=fig.add_subplot(1,1,1)\n",
        "ax1.set_xlabel('day of the week')\n",
        "ax1.set_ylabel('Sum of ride length')\n",
        "ax1.set_title('Sum of ride length vs day_of_the_week')\n",
        "a.plot(kind='line')"
      ]
    },
    {
      "cell_type": "code",
      "execution_count": null,
      "metadata": {
        "id": "XrbB6IcCqY4E",
        "outputId": "f4f1ae2f-7af4-4a27-9a87-8d855e1e289b"
      },
      "outputs": [
        {
          "data": {
            "text/plain": [
              "member    78715\n",
              "casual    18117\n",
              "Name: member_casual, dtype: int64"
            ]
          },
          "execution_count": 41,
          "metadata": {},
          "output_type": "execute_result"
        }
      ],
      "source": [
        "cyclist01['member_casual'].value_counts()"
      ]
    },
    {
      "cell_type": "code",
      "execution_count": null,
      "metadata": {
        "id": "TroH5JksqY4F",
        "outputId": "5272ddf3-3b78-489e-8c34-64af662727fb"
      },
      "outputs": [
        {
          "data": {
            "text/plain": [
              "([<matplotlib.patches.Wedge at 0x53c0770>,\n",
              "  <matplotlib.patches.Wedge at 0x53c0910>],\n",
              " [Text(-0.6099695287128167, -0.9153890834185563, 'member'),\n",
              "  Text(0.6099695715652713, 0.9153890548638209, 'casual')])"
            ]
          },
          "execution_count": 42,
          "metadata": {},
          "output_type": "execute_result"
        },
        {
          "data": {
            "image/png": "[encoded data removed]",
            "text/plain": [
              "<Figure size 432x288 with 1 Axes>"
            ]
          },
          "metadata": {},
          "output_type": "display_data"
        }
      ],
      "source": [
        "a=cyclist01['member_casual'].value_counts()\n",
        "plt.pie(a,labels=a.index,startangle=90)"
      ]
    },
    {
      "cell_type": "code",
      "execution_count": null,
      "metadata": {
        "id": "I5oHSucWqY4F",
        "outputId": "2d87f8ba-e521-4a12-cd52-e65c1c00b400"
      },
      "outputs": [
        {
          "data": {
            "text/plain": [
              "day_of_week  member_casual\n",
              "Friday       casual            3906000.0\n",
              "             member            9352680.0\n",
              "Monday       casual            2568660.0\n",
              "             member            8830680.0\n",
              "Saturday     casual            7625220.0\n",
              "             member           10024560.0\n",
              "Sunday       casual            5020080.0\n",
              "             member            7111200.0\n",
              "Thursday     casual            3052680.0\n",
              "             member            8797560.0\n",
              "Tuesday      casual            2522760.0\n",
              "             member            7631460.0\n",
              "Wednesday    casual            3224400.0\n",
              "             member            9044940.0\n",
              "Name: ride_length_secs, dtype: float64"
            ]
          },
          "execution_count": 43,
          "metadata": {},
          "output_type": "execute_result"
        }
      ],
      "source": [
        "(cyclist01.groupby(['day_of_week','member_casual']).ride_length_secs.sum())"
      ]
    },
    {
      "cell_type": "code",
      "execution_count": null,
      "metadata": {
        "id": "c2A1YrWzqY4I",
        "outputId": "6bcbe92d-bdde-4954-cd64-abb896a86619"
      },
      "outputs": [
        {
          "data": {
            "text/plain": [
              "rideable_type\n",
              "classic_bike     61699\n",
              "docked_bike       2106\n",
              "electric_bike    33027\n",
              "Name: member_casual, dtype: int64"
            ]
          },
          "execution_count": 44,
          "metadata": {},
          "output_type": "execute_result"
        }
      ],
      "source": [
        "cyclist01.groupby(['rideable_type']).member_casual.count()"
      ]
    },
    {
      "cell_type": "code",
      "execution_count": null,
      "metadata": {
        "id": "oQWRtN5xqY4J",
        "outputId": "bc5a37cc-9b35-4e78-a167-555b0382278c"
      },
      "outputs": [
        {
          "data": {
            "text/plain": [
              "<matplotlib.axes._subplots.AxesSubplot at 0x539bbb0>"
            ]
          },
          "execution_count": 45,
          "metadata": {},
          "output_type": "execute_result"
        },
        {
          "data": {
            "image/png": "[encoded data removed]",
            "text/plain": [
              "<Figure size 432x288 with 1 Axes>"
            ]
          },
          "metadata": {
            "needs_background": "light"
          },
          "output_type": "display_data"
        }
      ],
      "source": [
        "cyclist01.groupby(['rideable_type']).member_casual.count()\n",
        "fig=plt.figure()\n",
        "ax1=fig.add_subplot(1,1,1)\n",
        "ax1.set_xlabel('rideable_type')\n",
        "ax1.set_ylabel('Total Numbers of member_casual')\n",
        "ax1.set_title('Types of bike with total member_casual')\n",
        "a.plot(kind='bar')"
      ]
    },
    {
      "cell_type": "code",
      "execution_count": null,
      "metadata": {
        "id": "bR0w9j4EqY4K",
        "outputId": "4da14d6b-cb2f-4626-84ef-7f0dafa23225"
      },
      "outputs": [
        {
          "data": {
            "text/html": [
              "<div>\n",
              "<style scoped>\n",
              "    .dataframe tbody tr th:only-of-type {\n",
              "        vertical-align: middle;\n",
              "    }\n",
              "\n",
              "    .dataframe tbody tr th {\n",
              "        vertical-align: top;\n",
              "    }\n",
              "\n",
              "    .dataframe thead th {\n",
              "        text-align: right;\n",
              "    }\n",
              "</style>\n",
              "<table border=\"1\" class=\"dataframe\">\n",
              "  <thead>\n",
              "    <tr style=\"text-align: right;\">\n",
              "      <th></th>\n",
              "      <th></th>\n",
              "      <th>ride_length_secs</th>\n",
              "    </tr>\n",
              "    <tr>\n",
              "      <th>member_casual</th>\n",
              "      <th>day_of_week</th>\n",
              "      <th></th>\n",
              "    </tr>\n",
              "  </thead>\n",
              "  <tbody>\n",
              "    <tr>\n",
              "      <td rowspan=\"7\" valign=\"top\">casual</td>\n",
              "      <td>Friday</td>\n",
              "      <td>3906000.0</td>\n",
              "    </tr>\n",
              "    <tr>\n",
              "      <td>Monday</td>\n",
              "      <td>2568660.0</td>\n",
              "    </tr>\n",
              "    <tr>\n",
              "      <td>Saturday</td>\n",
              "      <td>7625220.0</td>\n",
              "    </tr>\n",
              "    <tr>\n",
              "      <td>Sunday</td>\n",
              "      <td>5020080.0</td>\n",
              "    </tr>\n",
              "    <tr>\n",
              "      <td>Thursday</td>\n",
              "      <td>3052680.0</td>\n",
              "    </tr>\n",
              "    <tr>\n",
              "      <td>Tuesday</td>\n",
              "      <td>2522760.0</td>\n",
              "    </tr>\n",
              "    <tr>\n",
              "      <td>Wednesday</td>\n",
              "      <td>3224400.0</td>\n",
              "    </tr>\n",
              "    <tr>\n",
              "      <td rowspan=\"7\" valign=\"top\">member</td>\n",
              "      <td>Friday</td>\n",
              "      <td>9352680.0</td>\n",
              "    </tr>\n",
              "    <tr>\n",
              "      <td>Monday</td>\n",
              "      <td>8830680.0</td>\n",
              "    </tr>\n",
              "    <tr>\n",
              "      <td>Saturday</td>\n",
              "      <td>10024560.0</td>\n",
              "    </tr>\n",
              "    <tr>\n",
              "      <td>Sunday</td>\n",
              "      <td>7111200.0</td>\n",
              "    </tr>\n",
              "    <tr>\n",
              "      <td>Thursday</td>\n",
              "      <td>8797560.0</td>\n",
              "    </tr>\n",
              "    <tr>\n",
              "      <td>Tuesday</td>\n",
              "      <td>7631460.0</td>\n",
              "    </tr>\n",
              "    <tr>\n",
              "      <td>Wednesday</td>\n",
              "      <td>9044940.0</td>\n",
              "    </tr>\n",
              "  </tbody>\n",
              "</table>\n",
              "</div>"
            ],
            "text/plain": [
              "                           ride_length_secs\n",
              "member_casual day_of_week                  \n",
              "casual        Friday              3906000.0\n",
              "              Monday              2568660.0\n",
              "              Saturday            7625220.0\n",
              "              Sunday              5020080.0\n",
              "              Thursday            3052680.0\n",
              "              Tuesday             2522760.0\n",
              "              Wednesday           3224400.0\n",
              "member        Friday              9352680.0\n",
              "              Monday              8830680.0\n",
              "              Saturday           10024560.0\n",
              "              Sunday              7111200.0\n",
              "              Thursday            8797560.0\n",
              "              Tuesday             7631460.0\n",
              "              Wednesday           9044940.0"
            ]
          },
          "execution_count": 46,
          "metadata": {},
          "output_type": "execute_result"
        }
      ],
      "source": [
        "pd.pivot_table(cyclist01, index=['member_casual','day_of_week'],values='ride_length_secs',  aggfunc='sum')"
      ]
    },
    {
      "cell_type": "code",
      "execution_count": null,
      "metadata": {
        "id": "vYK3bZljqY4K",
        "outputId": "71765076-6790-4cd5-c324-566469bb5dc8"
      },
      "outputs": [
        {
          "data": {
            "text/plain": [
              "15273486.0"
            ]
          },
          "execution_count": 47,
          "metadata": {},
          "output_type": "execute_result"
        }
      ],
      "source": [
        "casual_weekdays=3907976.0+2567912.0+3050492.0+2523575.0+3223531.0\n",
        "casual_weekdays"
      ]
    },
    {
      "cell_type": "code",
      "execution_count": null,
      "metadata": {
        "id": "zt27dGXHqY4M",
        "outputId": "6e180a7a-36e5-4e62-bb16-f22afadcd9c6"
      },
      "outputs": [
        {
          "data": {
            "text/plain": [
              "12646177.0"
            ]
          },
          "execution_count": 48,
          "metadata": {},
          "output_type": "execute_result"
        }
      ],
      "source": [
        "casual_weekends=7625694.0+5020483.0\n",
        "casual_weekends"
      ]
    },
    {
      "cell_type": "code",
      "execution_count": null,
      "metadata": {
        "id": "HRnM2nTVqY4M",
        "outputId": "8041acf6-2e20-4554-fd37-40a4b4d279c6"
      },
      "outputs": [
        {
          "data": {
            "text/plain": [
              "43660737.0"
            ]
          },
          "execution_count": 49,
          "metadata": {},
          "output_type": "execute_result"
        }
      ],
      "source": [
        "member_weekdays=9350421.0+8831782.0+8798754.0+7633926.0+9045854\n",
        "member_weekdays"
      ]
    },
    {
      "cell_type": "code",
      "execution_count": null,
      "metadata": {
        "id": "4nGYU-BZqY4O",
        "outputId": "0262d95f-37bc-4860-93c5-79b0beae2f6c"
      },
      "outputs": [
        {
          "data": {
            "text/plain": [
              "17133904.0"
            ]
          },
          "execution_count": 50,
          "metadata": {},
          "output_type": "execute_result"
        }
      ],
      "source": [
        "memeber_weekends=10022303.0+7111601.0\n",
        "memeber_weekends"
      ]
    },
    {
      "cell_type": "code",
      "execution_count": null,
      "metadata": {
        "id": "n2atJMrgqY4P",
        "outputId": "e82cf4fd-1fb1-450e-860d-658fc3f01fb5"
      },
      "outputs": [
        {
          "data": {
            "text/html": [
              "<div>\n",
              "<style scoped>\n",
              "    .dataframe tbody tr th:only-of-type {\n",
              "        vertical-align: middle;\n",
              "    }\n",
              "\n",
              "    .dataframe tbody tr th {\n",
              "        vertical-align: top;\n",
              "    }\n",
              "\n",
              "    .dataframe thead th {\n",
              "        text-align: right;\n",
              "    }\n",
              "</style>\n",
              "<table border=\"1\" class=\"dataframe\">\n",
              "  <thead>\n",
              "    <tr style=\"text-align: right;\">\n",
              "      <th></th>\n",
              "      <th>index</th>\n",
              "      <th>days_categories</th>\n",
              "      <th>Total_ride_length</th>\n",
              "    </tr>\n",
              "  </thead>\n",
              "  <tbody>\n",
              "    <tr>\n",
              "      <td>0</td>\n",
              "      <td>2</td>\n",
              "      <td>member_weekdays</td>\n",
              "      <td>43660737</td>\n",
              "    </tr>\n",
              "    <tr>\n",
              "      <td>1</td>\n",
              "      <td>3</td>\n",
              "      <td>member_weekends</td>\n",
              "      <td>17133904</td>\n",
              "    </tr>\n",
              "    <tr>\n",
              "      <td>2</td>\n",
              "      <td>0</td>\n",
              "      <td>casual_weekdays</td>\n",
              "      <td>15273486</td>\n",
              "    </tr>\n",
              "    <tr>\n",
              "      <td>3</td>\n",
              "      <td>1</td>\n",
              "      <td>casual_weekends</td>\n",
              "      <td>12646177</td>\n",
              "    </tr>\n",
              "  </tbody>\n",
              "</table>\n",
              "</div>"
            ],
            "text/plain": [
              "   index  days_categories  Total_ride_length\n",
              "0      2  member_weekdays           43660737\n",
              "1      3  member_weekends           17133904\n",
              "2      0  casual_weekdays           15273486\n",
              "3      1  casual_weekends           12646177"
            ]
          },
          "execution_count": 51,
          "metadata": {},
          "output_type": "execute_result"
        }
      ],
      "source": [
        "b={'days_categories':['casual_weekdays','casual_weekends','member_weekdays','member_weekends'],\n",
        "  'Total_ride_length':[15273486,12646177,43660737,17133904]}\n",
        "a=pd.DataFrame(b)\n",
        "a.sort_values(by='Total_ride_length', ascending=False).reset_index() "
      ]
    },
    {
      "cell_type": "code",
      "execution_count": null,
      "metadata": {
        "id": "z-ScB_ZoqY4P",
        "outputId": "dd9f2d91-31aa-4ef0-983a-334c3eafdfe7"
      },
      "outputs": [
        {
          "data": {
            "text/plain": [
              "<BarContainer object of 4 artists>"
            ]
          },
          "execution_count": 52,
          "metadata": {},
          "output_type": "execute_result"
        },
        {
          "data": {
            "image/png": "[encoded data removed]",
            "text/plain": [
              "<Figure size 432x288 with 1 Axes>"
            ]
          },
          "metadata": {
            "needs_background": "light"
          },
          "output_type": "display_data"
        }
      ],
      "source": [
        "x=a['days_categories']\n",
        "y=a['Total_ride_length']\n",
        "plt.xlabel('Days Categories')\n",
        "plt.ylabel('Total ride length')\n",
        "plt.title('Total ride length of each memebership status over weekdays and weekend')\n",
        "plt.bar(x,y, color=['red', 'black','green','blue'])"
      ]
    },
    {
      "cell_type": "code",
      "execution_count": null,
      "metadata": {
        "id": "bXs3AZAGqY4Q"
      },
      "outputs": [],
      "source": [
        "cyclist01.to_csv('January2022.csv')"
      ]
    },
    {
      "cell_type": "code",
      "execution_count": null,
      "metadata": {
        "id": "9Clo4gDyqY4R",
        "outputId": "05b8c27e-434e-4a3f-8422-27fff1100a17"
      },
      "outputs": [
        {
          "data": {
            "text/html": [
              "<div>\n",
              "<style scoped>\n",
              "    .dataframe tbody tr th:only-of-type {\n",
              "        vertical-align: middle;\n",
              "    }\n",
              "\n",
              "    .dataframe tbody tr th {\n",
              "        vertical-align: top;\n",
              "    }\n",
              "\n",
              "    .dataframe thead th {\n",
              "        text-align: right;\n",
              "    }\n",
              "</style>\n",
              "<table border=\"1\" class=\"dataframe\">\n",
              "  <thead>\n",
              "    <tr style=\"text-align: right;\">\n",
              "      <th></th>\n",
              "      <th>ride_id</th>\n",
              "      <th>rideable_type</th>\n",
              "      <th>started_at</th>\n",
              "      <th>ended_at</th>\n",
              "      <th>start_station_name</th>\n",
              "      <th>start_station_id</th>\n",
              "      <th>end_station_name</th>\n",
              "      <th>end_station_id</th>\n",
              "      <th>start_lat</th>\n",
              "      <th>start_lng</th>\n",
              "      <th>end_lat</th>\n",
              "      <th>end_lng</th>\n",
              "      <th>member_casual</th>\n",
              "      <th>day_of_week</th>\n",
              "      <th>ride_length</th>\n",
              "      <th>ride_length_secs</th>\n",
              "    </tr>\n",
              "  </thead>\n",
              "  <tbody>\n",
              "    <tr>\n",
              "      <td>0</td>\n",
              "      <td>E19E6F1B8D4C42ED</td>\n",
              "      <td>electric_bike</td>\n",
              "      <td>2021-01-23 16:14:00</td>\n",
              "      <td>2021-01-23 16:24:00</td>\n",
              "      <td>California Ave &amp; Cortez St</td>\n",
              "      <td>17660</td>\n",
              "      <td>Dearborn St &amp; Erie St</td>\n",
              "      <td>13045</td>\n",
              "      <td>41.900341</td>\n",
              "      <td>-87.696743</td>\n",
              "      <td>41.89</td>\n",
              "      <td>-87.72</td>\n",
              "      <td>member</td>\n",
              "      <td>Saturday</td>\n",
              "      <td>00:10:00</td>\n",
              "      <td>600.0</td>\n",
              "    </tr>\n",
              "    <tr>\n",
              "      <td>1</td>\n",
              "      <td>DC88F20C2C55F27F</td>\n",
              "      <td>electric_bike</td>\n",
              "      <td>2021-01-27 18:43:00</td>\n",
              "      <td>2021-01-27 18:47:00</td>\n",
              "      <td>California Ave &amp; Cortez St</td>\n",
              "      <td>17660</td>\n",
              "      <td>Dearborn St &amp; Erie St</td>\n",
              "      <td>13045</td>\n",
              "      <td>41.900333</td>\n",
              "      <td>-87.696707</td>\n",
              "      <td>41.90</td>\n",
              "      <td>-87.69</td>\n",
              "      <td>member</td>\n",
              "      <td>Wednesday</td>\n",
              "      <td>00:04:00</td>\n",
              "      <td>240.0</td>\n",
              "    </tr>\n",
              "    <tr>\n",
              "      <td>2</td>\n",
              "      <td>EC45C94683FE3F27</td>\n",
              "      <td>electric_bike</td>\n",
              "      <td>2021-01-21 22:35:00</td>\n",
              "      <td>2021-01-21 22:37:00</td>\n",
              "      <td>California Ave &amp; Cortez St</td>\n",
              "      <td>17660</td>\n",
              "      <td>Dearborn St &amp; Erie St</td>\n",
              "      <td>13045</td>\n",
              "      <td>41.900313</td>\n",
              "      <td>-87.696643</td>\n",
              "      <td>41.90</td>\n",
              "      <td>-87.70</td>\n",
              "      <td>member</td>\n",
              "      <td>Thursday</td>\n",
              "      <td>00:02:00</td>\n",
              "      <td>120.0</td>\n",
              "    </tr>\n",
              "    <tr>\n",
              "      <td>3</td>\n",
              "      <td>4FA453A75AE377DB</td>\n",
              "      <td>electric_bike</td>\n",
              "      <td>2021-01-07 13:31:00</td>\n",
              "      <td>2021-01-07 13:42:00</td>\n",
              "      <td>California Ave &amp; Cortez St</td>\n",
              "      <td>17660</td>\n",
              "      <td>Dearborn St &amp; Erie St</td>\n",
              "      <td>13045</td>\n",
              "      <td>41.900399</td>\n",
              "      <td>-87.696662</td>\n",
              "      <td>41.92</td>\n",
              "      <td>-87.69</td>\n",
              "      <td>member</td>\n",
              "      <td>Thursday</td>\n",
              "      <td>00:11:00</td>\n",
              "      <td>660.0</td>\n",
              "    </tr>\n",
              "    <tr>\n",
              "      <td>4</td>\n",
              "      <td>BE5E8EB4E7263A0B</td>\n",
              "      <td>electric_bike</td>\n",
              "      <td>2021-01-23 02:24:00</td>\n",
              "      <td>2021-01-23 02:24:00</td>\n",
              "      <td>California Ave &amp; Cortez St</td>\n",
              "      <td>17660</td>\n",
              "      <td>Dearborn St &amp; Erie St</td>\n",
              "      <td>13045</td>\n",
              "      <td>41.900326</td>\n",
              "      <td>-87.696697</td>\n",
              "      <td>41.90</td>\n",
              "      <td>-87.70</td>\n",
              "      <td>casual</td>\n",
              "      <td>Saturday</td>\n",
              "      <td>00:00:00</td>\n",
              "      <td>0.0</td>\n",
              "    </tr>\n",
              "  </tbody>\n",
              "</table>\n",
              "</div>"
            ],
            "text/plain": [
              "            ride_id  rideable_type          started_at            ended_at  \\\n",
              "0  E19E6F1B8D4C42ED  electric_bike 2021-01-23 16:14:00 2021-01-23 16:24:00   \n",
              "1  DC88F20C2C55F27F  electric_bike 2021-01-27 18:43:00 2021-01-27 18:47:00   \n",
              "2  EC45C94683FE3F27  electric_bike 2021-01-21 22:35:00 2021-01-21 22:37:00   \n",
              "3  4FA453A75AE377DB  electric_bike 2021-01-07 13:31:00 2021-01-07 13:42:00   \n",
              "4  BE5E8EB4E7263A0B  electric_bike 2021-01-23 02:24:00 2021-01-23 02:24:00   \n",
              "\n",
              "           start_station_name start_station_id       end_station_name  \\\n",
              "0  California Ave & Cortez St            17660  Dearborn St & Erie St   \n",
              "1  California Ave & Cortez St            17660  Dearborn St & Erie St   \n",
              "2  California Ave & Cortez St            17660  Dearborn St & Erie St   \n",
              "3  California Ave & Cortez St            17660  Dearborn St & Erie St   \n",
              "4  California Ave & Cortez St            17660  Dearborn St & Erie St   \n",
              "\n",
              "  end_station_id  start_lat  start_lng  end_lat  end_lng member_casual  \\\n",
              "0          13045  41.900341 -87.696743    41.89   -87.72        member   \n",
              "1          13045  41.900333 -87.696707    41.90   -87.69        member   \n",
              "2          13045  41.900313 -87.696643    41.90   -87.70        member   \n",
              "3          13045  41.900399 -87.696662    41.92   -87.69        member   \n",
              "4          13045  41.900326 -87.696697    41.90   -87.70        casual   \n",
              "\n",
              "  day_of_week ride_length  ride_length_secs  \n",
              "0    Saturday    00:10:00             600.0  \n",
              "1   Wednesday    00:04:00             240.0  \n",
              "2    Thursday    00:02:00             120.0  \n",
              "3    Thursday    00:11:00             660.0  \n",
              "4    Saturday    00:00:00               0.0  "
            ]
          },
          "execution_count": 55,
          "metadata": {},
          "output_type": "execute_result"
        }
      ],
      "source": [
        "cyclist01.head()"
      ]
    },
    {
      "cell_type": "code",
      "execution_count": null,
      "metadata": {
        "id": "Eq8HnvCoqY4S"
      },
      "outputs": [],
      "source": [
        "data=pd.read_csv('202102-divvy-tripdata.csv')"
      ]
    },
    {
      "cell_type": "code",
      "execution_count": null,
      "metadata": {
        "id": "uOfvl4CCqY4T",
        "outputId": "9e15b8a5-98a7-4fa0-cf64-9cb062ebf0bf"
      },
      "outputs": [
        {
          "data": {
            "text/html": [
              "<div>\n",
              "<style scoped>\n",
              "    .dataframe tbody tr th:only-of-type {\n",
              "        vertical-align: middle;\n",
              "    }\n",
              "\n",
              "    .dataframe tbody tr th {\n",
              "        vertical-align: top;\n",
              "    }\n",
              "\n",
              "    .dataframe thead th {\n",
              "        text-align: right;\n",
              "    }\n",
              "</style>\n",
              "<table border=\"1\" class=\"dataframe\">\n",
              "  <thead>\n",
              "    <tr style=\"text-align: right;\">\n",
              "      <th></th>\n",
              "      <th>start_lat</th>\n",
              "      <th>start_lng</th>\n",
              "      <th>end_lat</th>\n",
              "      <th>end_lng</th>\n",
              "      <th>day_of_week</th>\n",
              "    </tr>\n",
              "  </thead>\n",
              "  <tbody>\n",
              "    <tr>\n",
              "      <td>count</td>\n",
              "      <td>49622.000000</td>\n",
              "      <td>49622.000000</td>\n",
              "      <td>49408.000000</td>\n",
              "      <td>49408.000000</td>\n",
              "      <td>49622.000000</td>\n",
              "    </tr>\n",
              "    <tr>\n",
              "      <td>mean</td>\n",
              "      <td>41.899147</td>\n",
              "      <td>-87.644377</td>\n",
              "      <td>41.899331</td>\n",
              "      <td>-87.644668</td>\n",
              "      <td>4.427794</td>\n",
              "    </tr>\n",
              "    <tr>\n",
              "      <td>std</td>\n",
              "      <td>0.044794</td>\n",
              "      <td>0.026006</td>\n",
              "      <td>0.044815</td>\n",
              "      <td>0.026084</td>\n",
              "      <td>1.977426</td>\n",
              "    </tr>\n",
              "    <tr>\n",
              "      <td>min</td>\n",
              "      <td>41.650000</td>\n",
              "      <td>-87.774704</td>\n",
              "      <td>41.540000</td>\n",
              "      <td>-87.774704</td>\n",
              "      <td>1.000000</td>\n",
              "    </tr>\n",
              "    <tr>\n",
              "      <td>25%</td>\n",
              "      <td>41.880478</td>\n",
              "      <td>-87.658404</td>\n",
              "      <td>41.880958</td>\n",
              "      <td>-87.658663</td>\n",
              "      <td>3.000000</td>\n",
              "    </tr>\n",
              "    <tr>\n",
              "      <td>50%</td>\n",
              "      <td>41.895433</td>\n",
              "      <td>-87.641066</td>\n",
              "      <td>41.895634</td>\n",
              "      <td>-87.641066</td>\n",
              "      <td>5.000000</td>\n",
              "    </tr>\n",
              "    <tr>\n",
              "      <td>75%</td>\n",
              "      <td>41.925563</td>\n",
              "      <td>-87.629142</td>\n",
              "      <td>41.925602</td>\n",
              "      <td>-87.629318</td>\n",
              "      <td>6.000000</td>\n",
              "    </tr>\n",
              "    <tr>\n",
              "      <td>max</td>\n",
              "      <td>42.064854</td>\n",
              "      <td>-87.534814</td>\n",
              "      <td>42.070000</td>\n",
              "      <td>-87.534814</td>\n",
              "      <td>7.000000</td>\n",
              "    </tr>\n",
              "  </tbody>\n",
              "</table>\n",
              "</div>"
            ],
            "text/plain": [
              "          start_lat     start_lng       end_lat       end_lng   day_of_week\n",
              "count  49622.000000  49622.000000  49408.000000  49408.000000  49622.000000\n",
              "mean      41.899147    -87.644377     41.899331    -87.644668      4.427794\n",
              "std        0.044794      0.026006      0.044815      0.026084      1.977426\n",
              "min       41.650000    -87.774704     41.540000    -87.774704      1.000000\n",
              "25%       41.880478    -87.658404     41.880958    -87.658663      3.000000\n",
              "50%       41.895433    -87.641066     41.895634    -87.641066      5.000000\n",
              "75%       41.925563    -87.629142     41.925602    -87.629318      6.000000\n",
              "max       42.064854    -87.534814     42.070000    -87.534814      7.000000"
            ]
          },
          "execution_count": 58,
          "metadata": {},
          "output_type": "execute_result"
        }
      ],
      "source": [
        "data.describe()"
      ]
    },
    {
      "cell_type": "code",
      "execution_count": null,
      "metadata": {
        "id": "f_Ff20CZqY4T",
        "outputId": "15c43ab4-15f1-4c52-b7c9-748cbe85c02a"
      },
      "outputs": [
        {
          "data": {
            "text/html": [
              "<div>\n",
              "<style scoped>\n",
              "    .dataframe tbody tr th:only-of-type {\n",
              "        vertical-align: middle;\n",
              "    }\n",
              "\n",
              "    .dataframe tbody tr th {\n",
              "        vertical-align: top;\n",
              "    }\n",
              "\n",
              "    .dataframe thead th {\n",
              "        text-align: right;\n",
              "    }\n",
              "</style>\n",
              "<table border=\"1\" class=\"dataframe\">\n",
              "  <thead>\n",
              "    <tr style=\"text-align: right;\">\n",
              "      <th></th>\n",
              "      <th>ride_id</th>\n",
              "      <th>rideable_type</th>\n",
              "      <th>started_at</th>\n",
              "      <th>ended_at</th>\n",
              "      <th>start_station_name</th>\n",
              "      <th>start_station_id</th>\n",
              "      <th>end_station_name</th>\n",
              "      <th>end_station_id</th>\n",
              "      <th>start_lat</th>\n",
              "      <th>start_lng</th>\n",
              "      <th>end_lat</th>\n",
              "      <th>end_lng</th>\n",
              "      <th>member_casual</th>\n",
              "      <th>ride_lenght</th>\n",
              "      <th>day_of_week</th>\n",
              "    </tr>\n",
              "  </thead>\n",
              "  <tbody>\n",
              "    <tr>\n",
              "      <td>0</td>\n",
              "      <td>89E7AA6C29227EFF</td>\n",
              "      <td>classic_bike</td>\n",
              "      <td>2/12/2021 16:14</td>\n",
              "      <td>2/12/2021 16:21</td>\n",
              "      <td>Glenwood Ave &amp; Touhy Ave</td>\n",
              "      <td>525</td>\n",
              "      <td>Sheridan Rd &amp; Columbia Ave</td>\n",
              "      <td>660</td>\n",
              "      <td>42.012701</td>\n",
              "      <td>-87.666058</td>\n",
              "      <td>42.004583</td>\n",
              "      <td>-87.661406</td>\n",
              "      <td>member</td>\n",
              "      <td>0:07:00</td>\n",
              "      <td>6.0</td>\n",
              "    </tr>\n",
              "    <tr>\n",
              "      <td>1</td>\n",
              "      <td>0FEFDE2603568365</td>\n",
              "      <td>classic_bike</td>\n",
              "      <td>2/14/2021 17:52</td>\n",
              "      <td>2/14/2021 18:12</td>\n",
              "      <td>Glenwood Ave &amp; Touhy Ave</td>\n",
              "      <td>525</td>\n",
              "      <td>Bosworth Ave &amp; Howard St</td>\n",
              "      <td>16806</td>\n",
              "      <td>42.012701</td>\n",
              "      <td>-87.666058</td>\n",
              "      <td>42.019537</td>\n",
              "      <td>-87.669563</td>\n",
              "      <td>casual</td>\n",
              "      <td>0:20:00</td>\n",
              "      <td>1.0</td>\n",
              "    </tr>\n",
              "    <tr>\n",
              "      <td>2</td>\n",
              "      <td>E6159D746B2DBB91</td>\n",
              "      <td>electric_bike</td>\n",
              "      <td>2/9/2021 19:10</td>\n",
              "      <td>2/9/2021 19:19</td>\n",
              "      <td>Clark St &amp; Lake St</td>\n",
              "      <td>KA1503000012</td>\n",
              "      <td>State St &amp; Randolph St</td>\n",
              "      <td>TA1305000029</td>\n",
              "      <td>41.885795</td>\n",
              "      <td>-87.631101</td>\n",
              "      <td>41.884866</td>\n",
              "      <td>-87.627498</td>\n",
              "      <td>member</td>\n",
              "      <td>0:09:00</td>\n",
              "      <td>3.0</td>\n",
              "    </tr>\n",
              "    <tr>\n",
              "      <td>3</td>\n",
              "      <td>B32D3199F1C2E75B</td>\n",
              "      <td>classic_bike</td>\n",
              "      <td>2/2/2021 17:49</td>\n",
              "      <td>2/2/2021 17:54</td>\n",
              "      <td>Wood St &amp; Chicago Ave</td>\n",
              "      <td>637</td>\n",
              "      <td>Honore St &amp; Division St</td>\n",
              "      <td>TA1305000034</td>\n",
              "      <td>41.895634</td>\n",
              "      <td>-87.672069</td>\n",
              "      <td>41.903119</td>\n",
              "      <td>-87.673935</td>\n",
              "      <td>member</td>\n",
              "      <td>0:05:00</td>\n",
              "      <td>3.0</td>\n",
              "    </tr>\n",
              "    <tr>\n",
              "      <td>4</td>\n",
              "      <td>83E463F23575F4BF</td>\n",
              "      <td>electric_bike</td>\n",
              "      <td>2/23/2021 15:07</td>\n",
              "      <td>2/23/2021 15:22</td>\n",
              "      <td>State St &amp; 33rd St</td>\n",
              "      <td>13216</td>\n",
              "      <td>Emerald Ave &amp; 31st St</td>\n",
              "      <td>TA1309000055</td>\n",
              "      <td>41.834733</td>\n",
              "      <td>-87.625827</td>\n",
              "      <td>41.838163</td>\n",
              "      <td>-87.645123</td>\n",
              "      <td>member</td>\n",
              "      <td>0:15:00</td>\n",
              "      <td>3.0</td>\n",
              "    </tr>\n",
              "  </tbody>\n",
              "</table>\n",
              "</div>"
            ],
            "text/plain": [
              "            ride_id  rideable_type       started_at         ended_at  \\\n",
              "0  89E7AA6C29227EFF   classic_bike  2/12/2021 16:14  2/12/2021 16:21   \n",
              "1  0FEFDE2603568365   classic_bike  2/14/2021 17:52  2/14/2021 18:12   \n",
              "2  E6159D746B2DBB91  electric_bike   2/9/2021 19:10   2/9/2021 19:19   \n",
              "3  B32D3199F1C2E75B   classic_bike   2/2/2021 17:49   2/2/2021 17:54   \n",
              "4  83E463F23575F4BF  electric_bike  2/23/2021 15:07  2/23/2021 15:22   \n",
              "\n",
              "         start_station_name start_station_id            end_station_name  \\\n",
              "0  Glenwood Ave & Touhy Ave              525  Sheridan Rd & Columbia Ave   \n",
              "1  Glenwood Ave & Touhy Ave              525    Bosworth Ave & Howard St   \n",
              "2        Clark St & Lake St     KA1503000012      State St & Randolph St   \n",
              "3     Wood St & Chicago Ave              637     Honore St & Division St   \n",
              "4        State St & 33rd St            13216       Emerald Ave & 31st St   \n",
              "\n",
              "  end_station_id  start_lat  start_lng    end_lat    end_lng member_casual  \\\n",
              "0            660  42.012701 -87.666058  42.004583 -87.661406        member   \n",
              "1          16806  42.012701 -87.666058  42.019537 -87.669563        casual   \n",
              "2   TA1305000029  41.885795 -87.631101  41.884866 -87.627498        member   \n",
              "3   TA1305000034  41.895634 -87.672069  41.903119 -87.673935        member   \n",
              "4   TA1309000055  41.834733 -87.625827  41.838163 -87.645123        member   \n",
              "\n",
              "  ride_lenght  day_of_week  \n",
              "0     0:07:00          6.0  \n",
              "1     0:20:00          1.0  \n",
              "2     0:09:00          3.0  \n",
              "3     0:05:00          3.0  \n",
              "4     0:15:00          3.0  "
            ]
          },
          "execution_count": 59,
          "metadata": {},
          "output_type": "execute_result"
        }
      ],
      "source": [
        "data.head()"
      ]
    },
    {
      "cell_type": "code",
      "execution_count": null,
      "metadata": {
        "id": "9e-aC3B9qY4U",
        "outputId": "13b75d80-6691-412c-d12c-fff1896074a5"
      },
      "outputs": [
        {
          "data": {
            "text/html": [
              "<div>\n",
              "<style scoped>\n",
              "    .dataframe tbody tr th:only-of-type {\n",
              "        vertical-align: middle;\n",
              "    }\n",
              "\n",
              "    .dataframe tbody tr th {\n",
              "        vertical-align: top;\n",
              "    }\n",
              "\n",
              "    .dataframe thead th {\n",
              "        text-align: right;\n",
              "    }\n",
              "</style>\n",
              "<table border=\"1\" class=\"dataframe\">\n",
              "  <thead>\n",
              "    <tr style=\"text-align: right;\">\n",
              "      <th></th>\n",
              "      <th>ride_id</th>\n",
              "      <th>rideable_type</th>\n",
              "      <th>started_at</th>\n",
              "      <th>ended_at</th>\n",
              "      <th>start_station_name</th>\n",
              "      <th>start_station_id</th>\n",
              "      <th>end_station_name</th>\n",
              "      <th>end_station_id</th>\n",
              "      <th>start_lat</th>\n",
              "      <th>start_lng</th>\n",
              "      <th>end_lat</th>\n",
              "      <th>end_lng</th>\n",
              "      <th>member_casual</th>\n",
              "      <th>ride_lenght</th>\n",
              "      <th>day_of_week</th>\n",
              "    </tr>\n",
              "  </thead>\n",
              "  <tbody>\n",
              "    <tr>\n",
              "      <td>49620</td>\n",
              "      <td>C5538FFA492A7B00</td>\n",
              "      <td>classic_bike</td>\n",
              "      <td>2/9/2021 11:44</td>\n",
              "      <td>2/9/2021 11:46</td>\n",
              "      <td>Franklin St &amp; Chicago Ave</td>\n",
              "      <td>13017</td>\n",
              "      <td>Wells St &amp; Walton St</td>\n",
              "      <td>TA1306000011</td>\n",
              "      <td>41.896747</td>\n",
              "      <td>-87.635668</td>\n",
              "      <td>41.89993</td>\n",
              "      <td>-87.63443</td>\n",
              "      <td>member</td>\n",
              "      <td>0:02:00</td>\n",
              "      <td>3.0</td>\n",
              "    </tr>\n",
              "    <tr>\n",
              "      <td>49621</td>\n",
              "      <td>EB4CA525B953E123</td>\n",
              "      <td>electric_bike</td>\n",
              "      <td>2/4/2021 10:26</td>\n",
              "      <td>2/4/2021 10:31</td>\n",
              "      <td>Franklin St &amp; Chicago Ave</td>\n",
              "      <td>13017</td>\n",
              "      <td>NaN</td>\n",
              "      <td>NaN</td>\n",
              "      <td>41.896743</td>\n",
              "      <td>-87.635678</td>\n",
              "      <td>41.90000</td>\n",
              "      <td>-87.65000</td>\n",
              "      <td>member</td>\n",
              "      <td>0:05:00</td>\n",
              "      <td>5.0</td>\n",
              "    </tr>\n",
              "    <tr>\n",
              "      <td>49622</td>\n",
              "      <td>NaN</td>\n",
              "      <td>NaN</td>\n",
              "      <td>NaN</td>\n",
              "      <td>NaN</td>\n",
              "      <td>NaN</td>\n",
              "      <td>NaN</td>\n",
              "      <td>NaN</td>\n",
              "      <td>NaN</td>\n",
              "      <td>NaN</td>\n",
              "      <td>NaN</td>\n",
              "      <td>NaN</td>\n",
              "      <td>NaN</td>\n",
              "      <td>NaN</td>\n",
              "      <td>20197:59:00</td>\n",
              "      <td>NaN</td>\n",
              "    </tr>\n",
              "    <tr>\n",
              "      <td>49623</td>\n",
              "      <td>NaN</td>\n",
              "      <td>NaN</td>\n",
              "      <td>NaN</td>\n",
              "      <td>NaN</td>\n",
              "      <td>NaN</td>\n",
              "      <td>NaN</td>\n",
              "      <td>NaN</td>\n",
              "      <td>NaN</td>\n",
              "      <td>NaN</td>\n",
              "      <td>NaN</td>\n",
              "      <td>NaN</td>\n",
              "      <td>NaN</td>\n",
              "      <td>NaN</td>\n",
              "      <td>502:10:00</td>\n",
              "      <td>NaN</td>\n",
              "    </tr>\n",
              "    <tr>\n",
              "      <td>49624</td>\n",
              "      <td>NaN</td>\n",
              "      <td>NaN</td>\n",
              "      <td>NaN</td>\n",
              "      <td>NaN</td>\n",
              "      <td>NaN</td>\n",
              "      <td>NaN</td>\n",
              "      <td>NaN</td>\n",
              "      <td>NaN</td>\n",
              "      <td>NaN</td>\n",
              "      <td>NaN</td>\n",
              "      <td>NaN</td>\n",
              "      <td>NaN</td>\n",
              "      <td>NaN</td>\n",
              "      <td>0:24:25</td>\n",
              "      <td>NaN</td>\n",
              "    </tr>\n",
              "  </tbody>\n",
              "</table>\n",
              "</div>"
            ],
            "text/plain": [
              "                ride_id  rideable_type      started_at        ended_at  \\\n",
              "49620  C5538FFA492A7B00   classic_bike  2/9/2021 11:44  2/9/2021 11:46   \n",
              "49621  EB4CA525B953E123  electric_bike  2/4/2021 10:26  2/4/2021 10:31   \n",
              "49622               NaN            NaN             NaN             NaN   \n",
              "49623               NaN            NaN             NaN             NaN   \n",
              "49624               NaN            NaN             NaN             NaN   \n",
              "\n",
              "              start_station_name start_station_id      end_station_name  \\\n",
              "49620  Franklin St & Chicago Ave            13017  Wells St & Walton St   \n",
              "49621  Franklin St & Chicago Ave            13017                   NaN   \n",
              "49622                        NaN              NaN                   NaN   \n",
              "49623                        NaN              NaN                   NaN   \n",
              "49624                        NaN              NaN                   NaN   \n",
              "\n",
              "      end_station_id  start_lat  start_lng   end_lat   end_lng member_casual  \\\n",
              "49620   TA1306000011  41.896747 -87.635668  41.89993 -87.63443        member   \n",
              "49621            NaN  41.896743 -87.635678  41.90000 -87.65000        member   \n",
              "49622            NaN        NaN        NaN       NaN       NaN           NaN   \n",
              "49623            NaN        NaN        NaN       NaN       NaN           NaN   \n",
              "49624            NaN        NaN        NaN       NaN       NaN           NaN   \n",
              "\n",
              "       ride_lenght  day_of_week  \n",
              "49620      0:02:00          3.0  \n",
              "49621      0:05:00          5.0  \n",
              "49622  20197:59:00          NaN  \n",
              "49623    502:10:00          NaN  \n",
              "49624      0:24:25          NaN  "
            ]
          },
          "execution_count": 60,
          "metadata": {},
          "output_type": "execute_result"
        }
      ],
      "source": [
        "data.tail()"
      ]
    },
    {
      "cell_type": "code",
      "execution_count": null,
      "metadata": {
        "id": "mRDTYXmBqY4V"
      },
      "outputs": [],
      "source": [
        "data['started_at']=pd.to_datetime(data['started_at'])\n",
        "data['ended_at']=pd.to_datetime(data['ended_at'])"
      ]
    },
    {
      "cell_type": "code",
      "execution_count": null,
      "metadata": {
        "id": "b0l0ZHuhqY4V",
        "outputId": "1e6cf512-2ad9-4d75-cea0-1efc9f23f0ae"
      },
      "outputs": [
        {
          "data": {
            "text/html": [
              "<div>\n",
              "<style scoped>\n",
              "    .dataframe tbody tr th:only-of-type {\n",
              "        vertical-align: middle;\n",
              "    }\n",
              "\n",
              "    .dataframe tbody tr th {\n",
              "        vertical-align: top;\n",
              "    }\n",
              "\n",
              "    .dataframe thead th {\n",
              "        text-align: right;\n",
              "    }\n",
              "</style>\n",
              "<table border=\"1\" class=\"dataframe\">\n",
              "  <thead>\n",
              "    <tr style=\"text-align: right;\">\n",
              "      <th></th>\n",
              "      <th>start_lat</th>\n",
              "      <th>start_lng</th>\n",
              "      <th>end_lat</th>\n",
              "      <th>end_lng</th>\n",
              "      <th>day_of_week</th>\n",
              "    </tr>\n",
              "  </thead>\n",
              "  <tbody>\n",
              "    <tr>\n",
              "      <td>count</td>\n",
              "      <td>49622.000000</td>\n",
              "      <td>49622.000000</td>\n",
              "      <td>49408.000000</td>\n",
              "      <td>49408.000000</td>\n",
              "      <td>49622.000000</td>\n",
              "    </tr>\n",
              "    <tr>\n",
              "      <td>mean</td>\n",
              "      <td>41.899147</td>\n",
              "      <td>-87.644377</td>\n",
              "      <td>41.899331</td>\n",
              "      <td>-87.644668</td>\n",
              "      <td>4.427794</td>\n",
              "    </tr>\n",
              "    <tr>\n",
              "      <td>std</td>\n",
              "      <td>0.044794</td>\n",
              "      <td>0.026006</td>\n",
              "      <td>0.044815</td>\n",
              "      <td>0.026084</td>\n",
              "      <td>1.977426</td>\n",
              "    </tr>\n",
              "    <tr>\n",
              "      <td>min</td>\n",
              "      <td>41.650000</td>\n",
              "      <td>-87.774704</td>\n",
              "      <td>41.540000</td>\n",
              "      <td>-87.774704</td>\n",
              "      <td>1.000000</td>\n",
              "    </tr>\n",
              "    <tr>\n",
              "      <td>25%</td>\n",
              "      <td>41.880478</td>\n",
              "      <td>-87.658404</td>\n",
              "      <td>41.880958</td>\n",
              "      <td>-87.658663</td>\n",
              "      <td>3.000000</td>\n",
              "    </tr>\n",
              "    <tr>\n",
              "      <td>50%</td>\n",
              "      <td>41.895433</td>\n",
              "      <td>-87.641066</td>\n",
              "      <td>41.895634</td>\n",
              "      <td>-87.641066</td>\n",
              "      <td>5.000000</td>\n",
              "    </tr>\n",
              "    <tr>\n",
              "      <td>75%</td>\n",
              "      <td>41.925563</td>\n",
              "      <td>-87.629142</td>\n",
              "      <td>41.925602</td>\n",
              "      <td>-87.629318</td>\n",
              "      <td>6.000000</td>\n",
              "    </tr>\n",
              "    <tr>\n",
              "      <td>max</td>\n",
              "      <td>42.064854</td>\n",
              "      <td>-87.534814</td>\n",
              "      <td>42.070000</td>\n",
              "      <td>-87.534814</td>\n",
              "      <td>7.000000</td>\n",
              "    </tr>\n",
              "  </tbody>\n",
              "</table>\n",
              "</div>"
            ],
            "text/plain": [
              "          start_lat     start_lng       end_lat       end_lng   day_of_week\n",
              "count  49622.000000  49622.000000  49408.000000  49408.000000  49622.000000\n",
              "mean      41.899147    -87.644377     41.899331    -87.644668      4.427794\n",
              "std        0.044794      0.026006      0.044815      0.026084      1.977426\n",
              "min       41.650000    -87.774704     41.540000    -87.774704      1.000000\n",
              "25%       41.880478    -87.658404     41.880958    -87.658663      3.000000\n",
              "50%       41.895433    -87.641066     41.895634    -87.641066      5.000000\n",
              "75%       41.925563    -87.629142     41.925602    -87.629318      6.000000\n",
              "max       42.064854    -87.534814     42.070000    -87.534814      7.000000"
            ]
          },
          "execution_count": 62,
          "metadata": {},
          "output_type": "execute_result"
        }
      ],
      "source": [
        "data.describe()"
      ]
    },
    {
      "cell_type": "code",
      "execution_count": null,
      "metadata": {
        "id": "z1-v4cODqY4Y"
      },
      "outputs": [],
      "source": [
        ""
      ]
    }
  ],
  "metadata": {
    "kernelspec": {
      "display_name": "Python 3",
      "language": "python",
      "name": "python3"
    },
    "language_info": {
      "codemirror_mode": {
        "name": "ipython",
        "version": 3
      },
      "file_extension": ".py",
      "mimetype": "text/x-python",
      "name": "python",
      "nbconvert_exporter": "python",
      "pygments_lexer": "ipython3",
      "version": "3.7.4"
    },
    "colab": {
      "name": "Bikeshare-Analysis-Project.ipynb",
      "provenance": [],
      "include_colab_link": true
    }
  },
  "nbformat": 4,
  "nbformat_minor": 0
}